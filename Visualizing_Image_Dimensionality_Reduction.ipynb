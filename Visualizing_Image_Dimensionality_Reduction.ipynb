{
 "cells": [
  {
   "cell_type": "markdown",
   "metadata": {},
   "source": [
    "# Introdução \n",
    "\n",
    "Este notebook é uma introdução ao sistema de Autoencoder e sua aplicação em imagens. O Autoencoder é uma rede neural que aprende a comprimir dados de entrada em uma representação de menor dimensão e, em seguida, reconstruir os dados de saída a partir dessa representação. O Autoencoder é composto por duas partes: um codificador e um decodificador. O codificador mapeia a entrada para a representação de menor dimensão e o decodificador mapeia a representação de volta para a saída original.\n",
    "\n",
    "- Autor: [Kauã Henrique Da Silva](https://www.linkedin.com/in/kauahenr/)\n",
    "\n",
    "## Objetivos\n",
    "\n",
    "Este notebook tem como objetivo, apresentar o conceito de Autoencoder e sua aplicação em imagens. Para isso, será utilizado o dataset Fashion MNIST, que é um conjunto de dados de imagens de numeros manuscritos.\n",
    "\n",
    "## Conteúdo\n",
    "\n",
    "- Aplicações do Autoencoder\n",
    "- Visualização de imagens codificadas\n",
    "- Visualização de imagens reconstruídas\n",
    "- Visualização de resultados de encoder e decoder\n",
    "- Classificação de imagens com Autoencoder\n"
   ]
  },
  {
   "cell_type": "markdown",
   "metadata": {},
   "source": [
    "# Setup\n",
    "\n",
    "Pré-requisitos para execução deste notebook."
   ]
  },
  {
   "cell_type": "markdown",
   "metadata": {},
   "source": [
    "## Bibliotecas\n",
    "\n",
    "caso não tenha alguma dessas bibliotecas instaladas, você pode instalar utilizando o comando `!pip install nome_da_biblioteca`.\n",
    "as versões utilizadas estão listadas abaixo."
   ]
  },
  {
   "cell_type": "code",
   "execution_count": 1,
   "metadata": {},
   "outputs": [],
   "source": [
    "%pip install tensorflow==2.16.1 --quiet"
   ]
  },
  {
   "cell_type": "code",
   "execution_count": 2,
   "metadata": {},
   "outputs": [],
   "source": [
    "import tensorflow as tf\n",
    "import numpy as np\n",
    "import matplotlib"
   ]
  },
  {
   "cell_type": "code",
   "execution_count": 3,
   "metadata": {},
   "outputs": [
    {
     "data": {
      "text/plain": [
       "('2.16.1', '1.26.4', '3.8.0')"
      ]
     },
     "execution_count": 3,
     "metadata": {},
     "output_type": "execute_result"
    }
   ],
   "source": [
    "tf.__version__, np.__version__, matplotlib.__version__"
   ]
  },
  {
   "cell_type": "code",
   "execution_count": 4,
   "metadata": {},
   "outputs": [],
   "source": [
    "from tensorflow.keras.datasets import mnist\n",
    "from tensorflow.keras.models import Sequential, Model\n",
    "from tensorflow.keras.layers import Input, Dense, Conv2D, MaxPooling2D, Flatten, UpSampling2D, Reshape\n",
    "from tensorflow.keras import utils as keras_utils\n",
    "from tensorflow.keras.callbacks import CSVLogger\n",
    "import matplotlib.pyplot as plt"
   ]
  },
  {
   "cell_type": "markdown",
   "metadata": {},
   "source": [
    "## Database\n",
    "\n",
    "Como mencionado anteriormente, o dataset utilizado será o mnist, que é um conjunto de dados de imagens de números manuscritos. O dataset é dividido em duas partes: treino e teste. O dataset de treino é composto por 60.000 imagens e o dataset de teste é composto por 10.000 imagens. Cada imagem possui dimensões de 28x28 pixels e é em escala de cinza."
   ]
  },
  {
   "cell_type": "markdown",
   "metadata": {},
   "source": [
    "### Download the databased\n",
    "\n"
   ]
  },
  {
   "cell_type": "code",
   "execution_count": 5,
   "metadata": {},
   "outputs": [
    {
     "name": "stdout",
     "output_type": "stream",
     "text": [
      "\n",
      "  null values:\n",
      "  x_train: 0\n",
      "  y_train: 0\n",
      "  x_test: 0\n",
      "  y_test: 0    \n",
      "  \n",
      "  Shapes:\n",
      "  x_train: (60000, 28, 28)\n",
      "  y_train: (60000,)\n",
      "  x_test: (10000, 28, 28)\n",
      "  y_test: (10000,)\n",
      "  \n",
      "  Max/Min values:\n",
      "  x_train: 255\\0\n",
      "  y_train: 9\\0\n",
      "  x_test: 255\\0\n",
      "  y_test: 9\\0\n",
      "\n"
     ]
    }
   ],
   "source": [
    "(x_train, y_train), (x_test, y_test) =  mnist.load_data()\n",
    "print(f\"\"\"\n",
    "  null values:\n",
    "  x_train: {np.isnan(x_train).sum()}\n",
    "  y_train: {np.isnan(y_train).sum()}\n",
    "  x_test: {np.isnan(x_test).sum()}\n",
    "  y_test: {np.isnan(y_test).sum()}    \n",
    "  \n",
    "  Shapes:\n",
    "  x_train: {x_train.shape}\n",
    "  y_train: {y_train.shape}\n",
    "  x_test: {x_test.shape}\n",
    "  y_test: {y_test.shape}\n",
    "  \n",
    "  Max/Min values:\n",
    "  x_train: {x_train.max()}\\{x_train.min()}\n",
    "  y_train: {y_train.max()}\\{y_train.min()}\n",
    "  x_test: {x_test.max()}\\{x_test.min()}\n",
    "  y_test: {y_test.max()}\\{y_test.min()}\n",
    "\"\"\")"
   ]
  },
  {
   "cell_type": "markdown",
   "metadata": {},
   "source": [
    "## Preprocessing\n",
    "\n",
    "Para o pré-processamento dos dados, as imagens serão normalizadas para que os valores dos pixels estejam no intervalo [0, 1]. Além disso, as imagens serão redimensionadas para o tamanho 28x28x1 para que possam ser utilizadas como entrada para o Autoencoder."
   ]
  },
  {
   "cell_type": "markdown",
   "metadata": {},
   "source": [
    "### Normalization\n",
    "\n",
    "A normalização dos dados é uma técnica comum em aprendizado de máquina para garantir que os dados estejam na mesma escala. Neste caso, os valores dos pixels das imagens serão normalizados para o intervalo [0, 1]."
   ]
  },
  {
   "cell_type": "code",
   "execution_count": 6,
   "metadata": {},
   "outputs": [
    {
     "name": "stdout",
     "output_type": "stream",
     "text": [
      "Min/Max: x_train=1.0/0.0, x_test=1.0/0.0\n"
     ]
    }
   ],
   "source": [
    "x_train, x_test = x_train / x_train[0].max(), x_test / x_test[0].max()\n",
    "print(f\"Min/Max: x_train={x_train[0].max()}/{x_train[0].min()}, x_test={x_test[0].max()}/{x_test[0].min()}\")"
   ]
  },
  {
   "cell_type": "markdown",
   "metadata": {},
   "source": [
    "### Train-test flatten\n",
    "\n",
    "O flatten é uma técnica que transforma uma matriz em um vetor. Neste caso, as imagens de entrada serão transformadas de uma matriz 28x28 para um vetor de tamanho 784."
   ]
  },
  {
   "cell_type": "code",
   "execution_count": 7,
   "metadata": {},
   "outputs": [
    {
     "data": {
      "text/plain": [
       "((60000, 784), (10000, 784))"
      ]
     },
     "execution_count": 7,
     "metadata": {},
     "output_type": "execute_result"
    }
   ],
   "source": [
    "x_train_flatten = x_train.reshape(-1, np.prod(x_train.shape[1:]))\n",
    "x_test_flatten = x_test.reshape(-1, np.prod(x_test.shape[1:]))\n",
    "x_train_flatten.shape, x_test_flatten.shape"
   ]
  },
  {
   "cell_type": "markdown",
   "metadata": {},
   "source": [
    "### Train-test conv\n",
    "\n",
    "O dataset de treino e teste será redimensionado para o tamanho 28x28x1 para que possam ser utilizados como entrada para o Autoencoder. O tamanho 1 indica que as imagens são em escala de cinza."
   ]
  },
  {
   "cell_type": "code",
   "execution_count": 8,
   "metadata": {},
   "outputs": [
    {
     "data": {
      "text/plain": [
       "((60000, 28, 28, 1), (10000, 28, 28, 1))"
      ]
     },
     "execution_count": 8,
     "metadata": {},
     "output_type": "execute_result"
    }
   ],
   "source": [
    "x_train_conv, x_test_conv = x_train[..., np.newaxis], x_test[..., np.newaxis]\n",
    "x_train_conv.shape, x_test_conv.shape"
   ]
  },
  {
   "cell_type": "markdown",
   "metadata": {},
   "source": [
    "### test categories\n",
    "\n",
    "O valor y do dataset está em formato numérico este formato não é adequado para o treinamento de uma rede neural. Portanto, os valores de y serão convertidos para o formato categórico.\n",
    "\n",
    "- 1 -> [1, 0, 0, 0, 0, 0, 0, 0, 0, 0]\n",
    "- 2 -> [0, 1, 0, 0, 0, 0, 0, 0, 0, 0]\n",
    "- (...)"
   ]
  },
  {
   "cell_type": "code",
   "execution_count": 9,
   "metadata": {},
   "outputs": [
    {
     "data": {
      "text/plain": [
       "((60000, 10), (10000, 10))"
      ]
     },
     "execution_count": 9,
     "metadata": {},
     "output_type": "execute_result"
    }
   ],
   "source": [
    "y_train, y_test = keras_utils.to_categorical(y_train), keras_utils.to_categorical(y_test)\n",
    "y_train.shape, y_test.shape"
   ]
  },
  {
   "cell_type": "markdown",
   "metadata": {},
   "source": [
    "# Visualizing Image Dimensionality Reduction\n",
    "\n",
    "Nesta seção, será utilizado um Autoencoder mais simples para comprimir as imagens de entrada em uma representação de menor dimensão e, em seguida, reconstruir as imagens de saída a partir dessa representação. O Autoencoder será treinado usando uma arquitetura de rede neural simples com uma camada de entrada, uma camada oculta e uma camada de saída."
   ]
  },
  {
   "cell_type": "code",
   "execution_count": 10,
   "metadata": {},
   "outputs": [],
   "source": [
    "QTD_NEURO_ENCODER = 128 # Quantidade de neurônios na camada de encoder"
   ]
  },
  {
   "cell_type": "markdown",
   "metadata": {},
   "source": [
    "## Building and Training the Model\n",
    "\n",
    "A arquitetura do Autoencoder é composta por uma camada de entrada, uma camada oculta e uma camada de saída. A camada de entrada possui 784 neurônios, que correspondem ao número de pixels das imagens de entrada. A camada oculta possui 128 neurônios, que correspondem à representação de menor dimensão das imagens. A camada de saída possui 784 neurônios, que correspondem ao número de pixels das imagens de saída."
   ]
  },
  {
   "cell_type": "code",
   "execution_count": 11,
   "metadata": {},
   "outputs": [],
   "source": [
    "autoencoder_falleng = Sequential()\n",
    "autoencoder_falleng.add(Input(shape=(x_train_flatten.shape[1],)))\n",
    "autoencoder_falleng.add(Dense(QTD_NEURO_ENCODER, activation='relu'))\n",
    "autoencoder_falleng.add(Dense(x_train_flatten.shape[1], activation='sigmoid'))\n",
    "autoencoder_falleng.compile(optimizer='adam', loss='binary_crossentropy', metrics=['accuracy'])"
   ]
  },
  {
   "cell_type": "code",
   "execution_count": 12,
   "metadata": {},
   "outputs": [
    {
     "name": "stdout",
     "output_type": "stream",
     "text": [
      "CPU times: user 1min 11s, sys: 11.4 s, total: 1min 22s\n",
      "Wall time: 50.6 s\n"
     ]
    },
    {
     "data": {
      "text/plain": [
       "<keras.src.callbacks.history.History at 0x7f68eaf38b80>"
      ]
     },
     "execution_count": 12,
     "metadata": {},
     "output_type": "execute_result"
    }
   ],
   "source": [
    "%%time\n",
    "autoencoder_falleng.fit(\n",
    "  x_train_flatten, x_train_flatten,\n",
    "  epochs=50, batch_size=256, verbose=0,\n",
    "  callbacks=[CSVLogger('csv_logger_autoencor_falleng.csv', append=False)],\n",
    "  validation_data=(x_test_flatten, x_test_flatten)\n",
    ");"
   ]
  },
  {
   "cell_type": "markdown",
   "metadata": {},
   "source": [
    "### Os autoencoders são divididos em duas partes:\n",
    "\n",
    "- Encoder: é a parte da rede que aprende a representação de menor dimensão dos dados de entrada.\n",
    "- Decoder: é a parte da rede que reconstrói os dados de saída a partir da representação de menor dimensão."
   ]
  },
  {
   "cell_type": "code",
   "execution_count": 13,
   "metadata": {},
   "outputs": [],
   "source": [
    "img_flatten = Input(shape=(x_train_flatten.shape[1],))\n",
    "img_encoded_flatten = Input(shape=(QTD_NEURO_ENCODER,))\n",
    "\n",
    "encoder_flatting = Model(img_flatten, autoencoder_falleng.layers[0](img_flatten))\n",
    "decoder_flatting = Model(img_encoded_flatten, autoencoder_falleng.layers[-1](img_encoded_flatten))"
   ]
  },
  {
   "cell_type": "markdown",
   "metadata": {},
   "source": [
    "## Predictions\n",
    "\n",
    "Nesta seção, as imagens de entrada serão comprimidas em uma representação de menor dimensão usando o codificador e, em seguida, reconstruídas usando o decodificador. As imagens de entrada, representação de menor dimensão e imagens de saída serão visualizadas para verificar a capacidade do Autoencoder de comprimir e reconstruir as imagens."
   ]
  },
  {
   "cell_type": "code",
   "execution_count": 14,
   "metadata": {},
   "outputs": [
    {
     "name": "stdout",
     "output_type": "stream",
     "text": [
      "\u001b[1m313/313\u001b[0m \u001b[32m━━━━━━━━━━━━━━━━━━━━\u001b[0m\u001b[37m\u001b[0m \u001b[1m1s\u001b[0m 2ms/step\n",
      "\u001b[1m313/313\u001b[0m \u001b[32m━━━━━━━━━━━━━━━━━━━━\u001b[0m\u001b[37m\u001b[0m \u001b[1m1s\u001b[0m 2ms/step\n"
     ]
    },
    {
     "data": {
      "text/plain": [
       "((10000, 128), (10000, 784))"
      ]
     },
     "execution_count": 14,
     "metadata": {},
     "output_type": "execute_result"
    }
   ],
   "source": [
    "imgs_encoded_flatting = encoder_flatting.predict(x_test_flatten)\n",
    "imgs_decoded_flatting = decoder_flatting.predict(imgs_encoded_flatting)\n",
    "imgs_encoded_flatting.shape, imgs_decoded_flatting.shape"
   ]
  },
  {
   "cell_type": "markdown",
   "metadata": {},
   "source": [
    "## Visualizing the Results\n",
    "\n",
    "Nesta seção será apresentado os resultados obtidos com o Autoencoder. Será exibido as imagens de entrada, representação de menor dimensão e imagens de saída para verificar a capacidade do Autoencoder de comprimir e reconstruir as imagens. Além disso, será calculado a quantidade de informação preservada pelo Autoencoder, juntamente com a similaridade entre as imagens de entrada e saída.\n"
   ]
  },
  {
   "cell_type": "code",
   "execution_count": 15,
   "metadata": {},
   "outputs": [
    {
     "name": "stdout",
     "output_type": "stream",
     "text": [
      "Encoded size: 4.88 MB -> Predicted size: 29.91 MB. Reduction size: 25.02 MB\n",
      "Percentage reduction: 83.67%\n",
      "Similarity percentage: 98.79%\n"
     ]
    },
    {
     "data": {
      "image/png": "[encoded data removed]",
      "text/plain": [
       "<Figure size 2000x400 with 30 Axes>"
      ]
     },
     "metadata": {},
     "output_type": "display_data"
    }
   ],
   "source": [
    "size_encoded = imgs_encoded_flatting.__sizeof__()\n",
    "size_pred = imgs_decoded_flatting.__sizeof__()\n",
    "size_encoded_mb = size_encoded / 1024 / 1024\n",
    "size_pred_mb = size_pred / 1024 / 1024\n",
    "reduction_size = abs(size_encoded_mb - size_pred_mb)\n",
    "reduction_rate = size_pred_mb / size_encoded_mb\n",
    "percentage_reduction = (1 - (size_encoded_mb / size_pred_mb)) * 100\n",
    "mean_diff = np.mean(np.abs(x_test_flatten - imgs_decoded_flatting))\n",
    "similarity_percentage = (1 - mean_diff) * 100\n",
    "\n",
    "print(f\"Encoded size: {size_encoded_mb:.2f} MB -> Predicted size: {size_pred_mb:.2f} MB. Reduction size: {reduction_size:.2f} MB\")\n",
    "print(f\"Percentage reduction: {percentage_reduction:.2f}%\")\n",
    "print(f\"Similarity percentage: {similarity_percentage:.2f}%\")\n",
    "\n",
    "QTD_IMGS = 10\n",
    "plt.figure(figsize=(20, 4))\n",
    "for i in range(QTD_IMGS):\n",
    "  # Original images\n",
    "  plt.subplot(3, QTD_IMGS, i + 1)\n",
    "  plt.imshow(x_test[i], cmap='gray')\n",
    "  plt.axis('off')\n",
    "  \n",
    "  # Encoded images\n",
    "  plt.subplot(3, QTD_IMGS, i + QTD_IMGS + 1)\n",
    "  plt.imshow(imgs_encoded_flatting[i].reshape(16, 8), cmap='gray')\n",
    "  plt.axis('off')\n",
    "  \n",
    "  # Reconstructed images\n",
    "  plt.subplot(3, QTD_IMGS, i + 2 * QTD_IMGS + 1)\n",
    "  plt.imshow(imgs_decoded_flatting[i].reshape(28, 28), cmap='gray')\n",
    "  plt.axis('off')\n",
    "  \n",
    "plt.show()"
   ]
  },
  {
   "cell_type": "markdown",
   "metadata": {},
   "source": [
    "# Visualizing Image Dimensionality Reduction - Categorical\n",
    "\n",
    "Nesta seção, será utilizado um Autoencoder semelhante ao anterior, mas com uma adição que é a categorização das imagens. O Autoencoder será treinado para comprimir as imagens de entrada em uma representação de menor dimensão e, em seguida, reconstruir as imagens de saída a partir dessa representação. Além disso, as imagens comprimidas serão categorizadas em 10 classes diferentes."
   ]
  },
  {
   "cell_type": "markdown",
   "metadata": {},
   "source": [
    "## Building and Training the Model\n",
    "\n",
    "Como mencionado anteriormente, essa seção vai demonstrar a utilização tanto do encoder quanto da rede neural para categorizar as imagens."
   ]
  },
  {
   "cell_type": "code",
   "execution_count": 16,
   "metadata": {},
   "outputs": [],
   "source": [
    "QTD_NEURO_ENCODER = 32"
   ]
  },
  {
   "cell_type": "markdown",
   "metadata": {},
   "source": [
    "#### Encoding Model\n",
    "\n",
    "O modelo de codificação é responsável por mapear as imagens de entrada para a representação de menor dimensão. O modelo de codificação é composto por uma camada de entrada, uma camada oculta e uma camada de saída. A camada de entrada possui 784 neurônios, que correspondem ao número de pixels das imagens de entrada. A camada oculta possui 32 neurônios, que correspondem à representação de menor dimensão das imagens. A camada de saída possui 784 neurônios, que correspondem ao número de pixels das imagens de saída."
   ]
  },
  {
   "cell_type": "code",
   "execution_count": 17,
   "metadata": {},
   "outputs": [],
   "source": [
    "autoencoder_falleng_2 = Sequential()\n",
    "autoencoder_falleng_2.add(Input(shape=(x_train_flatten.shape[1],)))\n",
    "autoencoder_falleng_2.add(Dense(QTD_NEURO_ENCODER, activation='relu'))\n",
    "autoencoder_falleng_2.add(Dense(x_train_flatten.shape[1], activation='sigmoid'))\n",
    "autoencoder_falleng_2.compile(optimizer='adam', loss='binary_crossentropy', metrics=['accuracy'])"
   ]
  },
  {
   "cell_type": "code",
   "execution_count": 18,
   "metadata": {},
   "outputs": [
    {
     "name": "stdout",
     "output_type": "stream",
     "text": [
      "CPU times: user 50.2 s, sys: 7.68 s, total: 57.9 s\n",
      "Wall time: 34.8 s\n"
     ]
    },
    {
     "data": {
      "text/plain": [
       "<keras.src.callbacks.history.History at 0x7f68343324a0>"
      ]
     },
     "execution_count": 18,
     "metadata": {},
     "output_type": "execute_result"
    }
   ],
   "source": [
    "%%time\n",
    "autoencoder_falleng_2.fit(\n",
    "  x_train_flatten, x_train_flatten,\n",
    "  epochs=50, batch_size=256, verbose=0,\n",
    "  callbacks=[CSVLogger('csv_logger_autoencor_falleng_2.csv', append=False)]\n",
    ");"
   ]
  },
  {
   "cell_type": "markdown",
   "metadata": {},
   "source": [
    "\n",
    "Aqui, possui a divisão do modelo de codificação e do modelo de categorização. O modelo de codificação é responsável por mapear as imagens de entrada para a representação de menor dimensão."
   ]
  },
  {
   "cell_type": "code",
   "execution_count": 19,
   "metadata": {},
   "outputs": [],
   "source": [
    "img_flatten_2 = Input(shape=(x_train_flatten.shape[1],))\n",
    "img_encoded_flatten_2 = Input(shape=(QTD_NEURO_ENCODER,))\n",
    "\n",
    "encoder_flatting_2 = Model(img_flatten_2, autoencoder_falleng_2.layers[0](img_flatten_2))\n",
    "decoder_flatting_2 = Model(img_encoded_flatten_2, autoencoder_falleng_2.layers[-1](img_encoded_flatten_2))"
   ]
  },
  {
   "cell_type": "markdown",
   "metadata": {},
   "source": [
    "#### Category Model no encoding\n",
    "\n",
    "O modelo de categorização é responsável por categorizar as imagens comprimidas em 10 classes diferentes sem utilizar o modelo de codificação. O modelo de categorização é composto por uma camada de entrada, duas camada oculta e uma camada de saída. A camada de entrada possui 784 neurônios, que correspondem à representação da imagem sem compressão. A camada oculta possui 408 neurônios, que correspondem à representação intermediária da imagem. A camada de saída possui 10 neurônios, que correspondem às 10 classes diferentes."
   ]
  },
  {
   "cell_type": "code",
   "execution_count": 40,
   "metadata": {},
   "outputs": [
    {
     "data": {
      "text/plain": [
       "408"
      ]
     },
     "execution_count": 40,
     "metadata": {},
     "output_type": "execute_result"
    }
   ],
   "source": [
    "units_count = int((x_train_flatten.shape[1] + QTD_NEURO_ENCODER) / 2)\n",
    "units_count"
   ]
  },
  {
   "cell_type": "code",
   "execution_count": 41,
   "metadata": {},
   "outputs": [
    {
     "data": {
      "text/plain": [
       "491242"
      ]
     },
     "execution_count": 41,
     "metadata": {},
     "output_type": "execute_result"
    }
   ],
   "source": [
    "network_no_encoded = Sequential()\n",
    "network_no_encoded.add(Input(shape=(x_train_flatten.shape[1],)))\n",
    "network_no_encoded.add(Dense(units_count, activation='relu'))\n",
    "network_no_encoded.add(Dense(units_count, activation='relu'))\n",
    "network_no_encoded.add(Dense(10, activation='softmax'))\n",
    "network_no_encoded.compile(optimizer='adam', loss='categorical_crossentropy', metrics=['accuracy'])\n",
    "params_no_encoded = network_no_encoded.count_params()\n",
    "params_no_encoded"
   ]
  },
  {
   "cell_type": "code",
   "execution_count": 42,
   "metadata": {},
   "outputs": [
    {
     "name": "stdout",
     "output_type": "stream",
     "text": [
      "CPU times: user 1min 44s, sys: 9.11 s, total: 1min 53s\n",
      "Wall time: 53.2 s\n"
     ]
    },
    {
     "data": {
      "text/plain": [
       "<keras.src.callbacks.history.History at 0x7f67ddb1ebc0>"
      ]
     },
     "execution_count": 42,
     "metadata": {},
     "output_type": "execute_result"
    }
   ],
   "source": [
    "%%time\n",
    "network_no_encoded.fit(\n",
    "    x_train_flatten, y_train, \n",
    "    epochs=50, batch_size=256, verbose=0,\n",
    "    callbacks=[CSVLogger('cv2_logger_classifier_no_encoded.csv', append=False)],\n",
    "    validation_data=(x_test_flatten, y_test),\n",
    ");"
   ]
  },
  {
   "cell_type": "markdown",
   "metadata": {},
   "source": [
    "#### Category Model with encoding\n",
    "\n",
    "O modelo de categorização é responsável por categorizar as imagens comprimidas em 10 classes diferentes utilizando o modelo de codificação. O modelo de categorização é composto por uma camada de entrada, duas camada oculta e uma camada de saída. A camada de entrada possui 31 neurônios, que correspondem à representação de menor dimensão das imagens. A camada oculta possui 21 neurônios, que correspondem à representação intermediária da imagem. A camada de saída possui 10 neurônios, que correspondem às 10 classes diferentes."
   ]
  },
  {
   "cell_type": "code",
   "execution_count": 44,
   "metadata": {},
   "outputs": [
    {
     "data": {
      "text/plain": [
       "21"
      ]
     },
     "execution_count": 44,
     "metadata": {},
     "output_type": "execute_result"
    }
   ],
   "source": [
    "units_count = int((QTD_NEURO_ENCODER + y_train.shape[1]) / 2)\n",
    "units_count"
   ]
  },
  {
   "cell_type": "code",
   "execution_count": 45,
   "metadata": {},
   "outputs": [
    {
     "data": {
      "text/plain": [
       "1375"
      ]
     },
     "execution_count": 45,
     "metadata": {},
     "output_type": "execute_result"
    }
   ],
   "source": [
    "network_encoded = Sequential()\n",
    "network_encoded.add(Input(shape=(QTD_NEURO_ENCODER,)))\n",
    "network_encoded.add(Dense(units_count, activation='relu'))\n",
    "network_encoded.add(Dense(units_count, activation='relu'))\n",
    "network_encoded.add(Dense(10, activation='softmax'))\n",
    "network_encoded.compile(optimizer='adam', loss='categorical_crossentropy', metrics=['accuracy'])\n",
    "params_encoded = network_encoded.count_params()\n",
    "params_encoded"
   ]
  },
  {
   "cell_type": "code",
   "execution_count": 46,
   "metadata": {},
   "outputs": [
    {
     "name": "stdout",
     "output_type": "stream",
     "text": [
      "\u001b[1m1875/1875\u001b[0m \u001b[32m━━━━━━━━━━━━━━━━━━━━\u001b[0m\u001b[37m\u001b[0m \u001b[1m3s\u001b[0m 2ms/step\n",
      "\u001b[1m313/313\u001b[0m \u001b[32m━━━━━━━━━━━━━━━━━━━━\u001b[0m\u001b[37m\u001b[0m \u001b[1m1s\u001b[0m 2ms/step\n",
      "CPU times: user 1min 24s, sys: 16.5 s, total: 1min 41s\n",
      "Wall time: 1min 15s\n"
     ]
    },
    {
     "data": {
      "text/plain": [
       "<keras.src.callbacks.history.History at 0x7f67dc1904f0>"
      ]
     },
     "execution_count": 46,
     "metadata": {},
     "output_type": "execute_result"
    }
   ],
   "source": [
    "%%time\n",
    "network_encoded.fit(\n",
    "  encoder_flatting_2.predict(x_train_flatten), y_train, \n",
    "  epochs=100, batch_size=256, verbose=0, \n",
    "  callbacks=[CSVLogger('cv2_logger_classifier_encoded.csv', append=False)],\n",
    "  validation_data=(encoder_flatting_2.predict(x_test_flatten), y_test)\n",
    ");"
   ]
  },
  {
   "cell_type": "markdown",
   "metadata": {},
   "source": [
    "## Predictions\n",
    "\n",
    "Nesta seção, as imagens de entrada serão comprimidas em uma representação de menor dimensão usando o codificador e, em seguida, reconstruídas usando o decodificador. As imagens de entrada, representação de menor dimensão e imagens de saída serão visualizadas para verificar a capacidade do Autoencoder de comprimir e reconstruir as imagens. Além disso, as imagens comprimidas serão categorizadas em 10 classes diferentes."
   ]
  },
  {
   "cell_type": "code",
   "execution_count": 47,
   "metadata": {},
   "outputs": [
    {
     "name": "stdout",
     "output_type": "stream",
     "text": [
      "\u001b[1m1875/1875\u001b[0m \u001b[32m━━━━━━━━━━━━━━━━━━━━\u001b[0m\u001b[37m\u001b[0m \u001b[1m3s\u001b[0m 2ms/step\n",
      "\u001b[1m313/313\u001b[0m \u001b[32m━━━━━━━━━━━━━━━━━━━━\u001b[0m\u001b[37m\u001b[0m \u001b[1m1s\u001b[0m 2ms/step\n",
      "\u001b[1m1875/1875\u001b[0m \u001b[32m━━━━━━━━━━━━━━━━━━━━\u001b[0m\u001b[37m\u001b[0m \u001b[1m1s\u001b[0m 561us/step\n",
      "\u001b[1m313/313\u001b[0m \u001b[32m━━━━━━━━━━━━━━━━━━━━\u001b[0m\u001b[37m\u001b[0m \u001b[1m1s\u001b[0m 2ms/step\n"
     ]
    }
   ],
   "source": [
    "imgs_encoded_x_train_flatting_2 = encoder_flatting_2.predict(x_train_flatten)\n",
    "imgs_encoded_x_test_flatting_2 = encoder_flatting_2.predict(x_test_flatten)\n",
    "imgs_decoded_x_train_flatting_2 = decoder_flatting_2.predict(imgs_encoded_x_train_flatting_2)\n",
    "imgs_decoded_x_test_flatting_2 = decoder_flatting_2.predict(imgs_encoded_x_test_flatting_2)"
   ]
  },
  {
   "cell_type": "code",
   "execution_count": 48,
   "metadata": {},
   "outputs": [
    {
     "name": "stdout",
     "output_type": "stream",
     "text": [
      "\u001b[1m313/313\u001b[0m \u001b[32m━━━━━━━━━━━━━━━━━━━━\u001b[0m\u001b[37m\u001b[0m \u001b[1m3s\u001b[0m 2ms/step\n",
      "CPU times: user 11.3 s, sys: 292 ms, total: 11.6 s\n",
      "Wall time: 3.59 s\n"
     ]
    }
   ],
   "source": [
    "%%time\n",
    "predicitions_no_encoded_categorical = network_no_encoded.predict(x_test_flatten)"
   ]
  },
  {
   "cell_type": "code",
   "execution_count": 49,
   "metadata": {},
   "outputs": [
    {
     "name": "stdout",
     "output_type": "stream",
     "text": [
      "\u001b[1m313/313\u001b[0m \u001b[32m━━━━━━━━━━━━━━━━━━━━\u001b[0m\u001b[37m\u001b[0m \u001b[1m1s\u001b[0m 2ms/step\n",
      "CPU times: user 634 ms, sys: 87.7 ms, total: 722 ms\n",
      "Wall time: 677 ms\n"
     ]
    }
   ],
   "source": [
    "%%time\n",
    "temp = encoder_flatting_2.predict(x_test_flatten)"
   ]
  },
  {
   "cell_type": "code",
   "execution_count": 50,
   "metadata": {},
   "outputs": [
    {
     "name": "stdout",
     "output_type": "stream",
     "text": [
      "CPU times: user 3 µs, sys: 0 ns, total: 3 µs\n",
      "Wall time: 7.15 µs\n",
      "\u001b[1m313/313\u001b[0m \u001b[32m━━━━━━━━━━━━━━━━━━━━\u001b[0m\u001b[37m\u001b[0m \u001b[1m1s\u001b[0m 3ms/step\n"
     ]
    }
   ],
   "source": [
    "%time\n",
    "predicitions_encoded_categorical = network_encoded.predict(temp)"
   ]
  },
  {
   "cell_type": "code",
   "execution_count": 51,
   "metadata": {},
   "outputs": [
    {
     "data": {
      "text/plain": [
       "(array([7, 2, 1, 0, 4, 1, 4, 9, 5, 9]),\n",
       " array([7, 2, 1, 0, 4, 1, 4, 9, 5, 9]),\n",
       " array([7, 2, 1, 0, 4, 1, 4, 9, 5, 9]))"
      ]
     },
     "execution_count": 51,
     "metadata": {},
     "output_type": "execute_result"
    }
   ],
   "source": [
    "predicitions_no_encoded = np.argmax(predicitions_no_encoded_categorical, axis=1)\n",
    "predicitions_encoded = np.argmax(predicitions_encoded_categorical, axis=1)\n",
    "predicitions_no_encoded[:10], predicitions_encoded[:10], np.argmax(y_test[:10], axis=1)"
   ]
  },
  {
   "cell_type": "markdown",
   "metadata": {},
   "source": [
    "## Visualizing the Results\n",
    "\n",
    "Nesta seção será apresentado os resultados obtidos com o Autoencoder. Será exibido as imagens de entrada, representação de menor dimensão e imagens de saída para verificar a capacidade do Autoencoder de comprimir e reconstruir as imagens. Além disso, será calculado a quantidade de informação preservada pelo Autoencoder, a similaridade entre as imagens de entrada e saída. E a acurácia do modelo de categorização."
   ]
  },
  {
   "cell_type": "code",
   "execution_count": 52,
   "metadata": {},
   "outputs": [
    {
     "name": "stdout",
     "output_type": "stream",
     "text": [
      "Encoded size: 1.22 MB -> Predicted size: 29.91 MB. Reduction size: 28.69 MB\n",
      "Percentage reduction: 95.92%\n",
      "Similarity percentage: 96.74%\n",
      "No encoded params: 491242 -> Encoded params: 1375. Reduction: 99.72%\n"
     ]
    },
    {
     "data": {
      "image/png": "[encoded data removed]",
      "text/plain": [
       "<Figure size 2000x400 with 30 Axes>"
      ]
     },
     "metadata": {},
     "output_type": "display_data"
    }
   ],
   "source": [
    "size_encoded = imgs_encoded_x_test_flatting_2.__sizeof__()\n",
    "size_pred = imgs_decoded_x_test_flatting_2.__sizeof__()\n",
    "size_encoded_mb = size_encoded / 1024 / 1024\n",
    "size_pred_mb = size_pred / 1024 / 1024\n",
    "reduction_size = abs(size_encoded_mb - size_pred_mb)\n",
    "reduction_rate = size_pred_mb / size_encoded_mb\n",
    "percentage_reduction = (1 - (size_encoded_mb / size_pred_mb)) * 100\n",
    "mean_diff = np.mean(np.abs(x_test_flatten - imgs_decoded_x_test_flatting_2))\n",
    "similarity_percentage = (1 - mean_diff) * 100\n",
    "reduction_porcentage = (1 - (params_encoded / params_no_encoded)) * 100\n",
    "\n",
    "\n",
    "print(f\"Encoded size: {size_encoded_mb:.2f} MB -> Predicted size: {size_pred_mb:.2f} MB. Reduction size: {reduction_size:.2f} MB\")\n",
    "print(f\"Percentage reduction: {percentage_reduction:.2f}%\")\n",
    "print(f\"Similarity percentage: {similarity_percentage:.2f}%\")\n",
    "print(f\"No encoded params: {params_no_encoded} -> Encoded params: {params_encoded}. Reduction: {reduction_porcentage:.2f}%\")\n",
    "\n",
    "\n",
    "QTD_IMGS = 10\n",
    "plt.figure(figsize=(20, 4))\n",
    "for i in range(QTD_IMGS):\n",
    "  # Original images\n",
    "  plt.subplot(3, QTD_IMGS, i + 1)\n",
    "  plt.imshow(x_test[i], cmap='gray')\n",
    "  plt.axis('off')\n",
    "  \n",
    "  # Encoded images\n",
    "  plt.subplot(3, QTD_IMGS, i + QTD_IMGS + 1)\n",
    "  plt.imshow(imgs_encoded_x_test_flatting_2[i].reshape(4, 8), cmap='gray')\n",
    "  plt.axis('off')\n",
    "  \n",
    "  # Reconstructed images\n",
    "  plt.subplot(3, QTD_IMGS, i + 2 * QTD_IMGS + 1)\n",
    "  plt.imshow(imgs_decoded_x_test_flatting_2[i].reshape(28, 28), cmap='gray')\n",
    "  plt.axis('off')\n",
    "  \n",
    "plt.show()"
   ]
  },
  {
   "cell_type": "code",
   "execution_count": 53,
   "metadata": {},
   "outputs": [
    {
     "name": "stdout",
     "output_type": "stream",
     "text": [
      "Accuracy no encoded: 0.98 -> Accuracy encoded: 0.95\n",
      "Accuracy difference: 0.03\n"
     ]
    }
   ],
   "source": [
    "accuracy_no_encoded = np.mean(predicitions_no_encoded == np.argmax(y_test, axis=1))\n",
    "accuracy_encoded = np.mean(predicitions_encoded == np.argmax(y_test, axis=1))\n",
    "\n",
    "print(f\"Accuracy no encoded: {accuracy_no_encoded:.2f} -> Accuracy encoded: {accuracy_encoded:.2f}\")\n",
    "print(f\"Accuracy difference: {abs(accuracy_encoded - accuracy_no_encoded):.2f}\")"
   ]
  },
  {
   "cell_type": "markdown",
   "metadata": {},
   "source": [
    "# Visualizing Image Dimensionality Reduction - Deep Learning\n",
    "\n",
    "Nesta seção, será utilizado um Autoencoder mais complexo para comprimir as imagens de entrada em uma representação de menor dimensão e, em seguida, reconstruir as imagens de saída a partir dessa representação. O Autoencoder será treinado usando uma arquitetura de rede neural mais complexa com várias camadas de entrada, várias camadas ocultas e várias camadas de saída."
   ]
  },
  {
   "cell_type": "markdown",
   "metadata": {},
   "source": [
    "## Building and Training the Model\n",
    "\n",
    "Faça uma breve descrição da arquitetura do Autoencoder utilizado. A entrada, vai receber uma imagem de 784, a camada encoder vai reduzir a imagem para 128, a camada de saída vai reconstruir a imagem para 784."
   ]
  },
  {
   "cell_type": "code",
   "execution_count": 54,
   "metadata": {},
   "outputs": [
    {
     "data": {
      "text/plain": [
       "(32, 397)"
      ]
     },
     "execution_count": 54,
     "metadata": {},
     "output_type": "execute_result"
    }
   ],
   "source": [
    "units_count = int((x_train_flatten.shape[1] + y_train.shape[1]) / 2)\n",
    "QTD_NEURO_ENCODER = 32\n",
    "QTD_NEURO_ENCODER, units_count"
   ]
  },
  {
   "cell_type": "code",
   "execution_count": 55,
   "metadata": {},
   "outputs": [],
   "source": [
    "autoencoder_flattening_deep = Sequential()\n",
    "autoencoder_flattening_deep.add(Input(shape=(x_train_flatten.shape[1],)))\n",
    "autoencoder_flattening_deep.add(Dense(units_count, activation='relu'))\n",
    "autoencoder_flattening_deep.add(Dense(int(units_count / 2), activation='relu'))\n",
    "autoencoder_flattening_deep.add(Dense(int(units_count / 4), activation='relu'))\n",
    "autoencoder_flattening_deep.add(Dense(QTD_NEURO_ENCODER, activation='relu'))\n",
    "autoencoder_flattening_deep.add(Dense(int(units_count / 4), activation='relu'))\n",
    "autoencoder_flattening_deep.add(Dense(int(units_count / 2), activation='relu'))\n",
    "autoencoder_flattening_deep.add(Dense(units_count, activation='relu'))\n",
    "autoencoder_flattening_deep.add(Dense(x_train_flatten.shape[1], activation='sigmoid'))\n",
    "autoencoder_flattening_deep.compile(optimizer='adam', loss='binary_crossentropy', metrics=['accuracy'])"
   ]
  },
  {
   "cell_type": "markdown",
   "metadata": {},
   "source": [
    "### Modelos de codificação e decodificação\n",
    "\n",
    "Esta seção está destinada a pegar os pesos do modelo do autoencoder e separar em dois modelos, um para codificação e outro para decodificação."
   ]
  },
  {
   "cell_type": "code",
   "execution_count": 95,
   "metadata": {},
   "outputs": [],
   "source": [
    "encoder_flatting_deep = Model(autoencoder_flattening_deep.layers[0].input, autoencoder_flattening_deep.layers[3].output)\n",
    "decoder_flatting_deep = Model(autoencoder_flattening_deep.layers[3].input, autoencoder_flattening_deep.layers[-1].output)"
   ]
  },
  {
   "cell_type": "markdown",
   "metadata": {},
   "source": [
    "### Treinamento do modelo\n",
    "\n",
    "Treinamento simples do modelo, sem muitas informações."
   ]
  },
  {
   "cell_type": "code",
   "execution_count": null,
   "metadata": {},
   "outputs": [
    {
     "data": {
      "text/plain": [
       "<keras.src.callbacks.history.History at 0x7f6800e19180>"
      ]
     },
     "execution_count": 58,
     "metadata": {},
     "output_type": "execute_result"
    }
   ],
   "source": [
    "%%time\n",
    "\n",
    "autoencoder_flattening_deep.fit(\n",
    "  x_train_flatten, x_train_flatten,\n",
    "  epochs=50, batch_size=256, verbose=0,\n",
    "  callbacks=[ CSVLogger('cv2_logger_autoencor_falleng_deep.csv', append=False) ],\n",
    "  validation_data=(x_test_flatten, x_test_flatten)\n",
    ")"
   ]
  },
  {
   "cell_type": "markdown",
   "metadata": {},
   "source": [
    "### Predictions\n",
    "\n",
    "Nesta seção, as imagens de entrada serão comprimidas em uma representação de menor dimensão usando o codificador e, em seguida, reconstruídas usando o decodificador. As imagens de entrada, representação de menor dimensão e imagens de saída serão visualizadas para verificar a capacidade do Autoencoder de comprimir e reconstruir as imagens."
   ]
  },
  {
   "cell_type": "code",
   "execution_count": 59,
   "metadata": {},
   "outputs": [
    {
     "name": "stdout",
     "output_type": "stream",
     "text": [
      "\u001b[1m313/313\u001b[0m \u001b[32m━━━━━━━━━━━━━━━━━━━━\u001b[0m\u001b[37m\u001b[0m \u001b[1m5s\u001b[0m 4ms/step\n",
      "\u001b[1m313/313\u001b[0m \u001b[32m━━━━━━━━━━━━━━━━━━━━\u001b[0m\u001b[37m\u001b[0m \u001b[1m5s\u001b[0m 4ms/step\n"
     ]
    }
   ],
   "source": [
    "imgs_encoded_x_test_flatting_deep = encoder_flatting_deep.predict(x_test_flatten)\n",
    "imgs_decoded_x_test_flatting_deep = decoder_flatting_deep.predict(imgs_encoded_x_test_flatting_deep)"
   ]
  },
  {
   "cell_type": "markdown",
   "metadata": {},
   "source": [
    "### Exibição dos resultados\n",
    "\n",
    "Nesta seção será apresentado os resultados obtidos com o Autoencoder. Será exibido as imagens de entrada, representação de menor dimensão e imagens de saída para verificar a capacidade do Autoencoder de comprimir e reconstruir as imagens. Além disso, será calculado a quantidade de informação preservada pelo Autoencoder, a similaridade entre as imagens de entrada e saída."
   ]
  },
  {
   "cell_type": "code",
   "execution_count": 60,
   "metadata": {},
   "outputs": [
    {
     "name": "stdout",
     "output_type": "stream",
     "text": [
      "Encoded size: 1.22 MB -> Predicted size: 29.91 MB. Reduction size: 28.69 MB\n",
      "Percentage reduction: 95.92%\n",
      "Similarity percentage: 97.65%\n"
     ]
    },
    {
     "data": {
      "image/png": "[encoded data removed]",
      "text/plain": [
       "<Figure size 2000x400 with 30 Axes>"
      ]
     },
     "metadata": {},
     "output_type": "display_data"
    }
   ],
   "source": [
    "size_encoded = imgs_encoded_x_test_flatting_deep.__sizeof__()\n",
    "size_pred = imgs_decoded_x_test_flatting_deep.__sizeof__()\n",
    "\n",
    "size_encoded_mb = size_encoded / 1024 / 1024\n",
    "size_pred_mb = size_pred / 1024 / 1024\n",
    "\n",
    "reduction_size = abs(size_encoded_mb - size_pred_mb)\n",
    "percentage_reduction = (1 - (size_encoded_mb / size_pred_mb)) * 100\n",
    "similarity_percentage = (1 - np.mean(np.abs(x_test_flatten - imgs_decoded_x_test_flatting_deep))) * 100\n",
    "\n",
    "print(f\"Encoded size: {size_encoded_mb:.2f} MB -> Predicted size: {size_pred_mb:.2f} MB. Reduction size: {reduction_size:.2f} MB\")\n",
    "print(f\"Percentage reduction: {percentage_reduction:.2f}%\")\n",
    "print(f\"Similarity percentage: {similarity_percentage:.2f}%\")\n",
    "\n",
    "\n",
    "QTD_IMGS = 10\n",
    "plt.figure(figsize=(20, 4))\n",
    "for i in range(QTD_IMGS):\n",
    "  # Original images\n",
    "  plt.subplot(3, QTD_IMGS, i + 1)\n",
    "  plt.imshow(x_test[i], cmap='gray')\n",
    "  plt.axis('off')\n",
    "  \n",
    "  # Encoded images\n",
    "  plt.subplot(3, QTD_IMGS, i + QTD_IMGS + 1)\n",
    "  plt.imshow(imgs_encoded_x_test_flatting_deep[i].reshape(4, 8), cmap='gray')\n",
    "  plt.axis('off')\n",
    "  \n",
    "  # Reconstructed images\n",
    "  plt.subplot(3, QTD_IMGS, i + 2 * QTD_IMGS + 1)\n",
    "  plt.imshow(imgs_decoded_x_test_flatting_deep[i].reshape(28, 28), cmap='gray')\n",
    "  plt.axis('off')\n",
    "  \n",
    "plt.show()"
   ]
  },
  {
   "cell_type": "markdown",
   "metadata": {},
   "source": [
    "# Visualizing Image Dimensionality Reduction - Convolutional Neural Networks\n",
    "\n",
    "Nesta seção, será utilizado um Autoencoder mais complexo para comprimir as imagens de entrada em uma representação de menor dimensão e, em seguida, reconstruir as imagens de saída a partir dessa representação. O Autoencoder será treinado usando uma arquitetura de rede neural convolucional com várias camadas de convolução, max pooling e camadas de reconstrução."
   ]
  },
  {
   "cell_type": "code",
   "execution_count": 75,
   "metadata": {},
   "outputs": [],
   "source": [
    "autoencoder_flattening_conv = Sequential()\n",
    "\n",
    "autoencoder_flattening_conv.add(Input(shape=(x_train_conv.shape[1], x_train_conv.shape[2], x_train_conv.shape[3])))\n",
    "autoencoder_flattening_conv.add(Conv2D(16, (3, 3), activation='relu', padding='same'))\n",
    "autoencoder_flattening_conv.add(MaxPooling2D((2, 2), padding='same'))\n",
    "autoencoder_flattening_conv.add(Conv2D(8, (3, 3), activation='relu', padding='same'))\n",
    "autoencoder_flattening_conv.add(MaxPooling2D((2, 2), padding='same'))\n",
    "autoencoder_flattening_conv.add(Conv2D(8, (3, 3), activation='relu', padding='same', strides=(2, 2)))\n",
    "\n",
    "autoencoder_flattening_conv.add(Flatten())\n",
    "autoencoder_flattening_conv.add(Reshape((4, 4, 8)))\n",
    "\n",
    "autoencoder_flattening_conv.add(Conv2D(8, (3, 3), activation='relu', padding='same'))\n",
    "autoencoder_flattening_conv.add(UpSampling2D((2, 2)))\n",
    "autoencoder_flattening_conv.add(Conv2D(8, (3, 3), activation='relu', padding='same'))\n",
    "autoencoder_flattening_conv.add(UpSampling2D((2, 2)))\n",
    "autoencoder_flattening_conv.add(Conv2D(16, (3, 3), activation='relu'))\n",
    "autoencoder_flattening_conv.add(UpSampling2D((2, 2)))\n",
    "autoencoder_flattening_conv.add(Conv2D(1, (3, 3), activation='sigmoid', padding='same'))\n",
    "\n",
    "autoencoder_flattening_conv.compile(optimizer='adam', loss='binary_crossentropy', metrics=['accuracy'])"
   ]
  },
  {
   "cell_type": "markdown",
   "metadata": {},
   "source": [
    "### Encoding e Decoding Model\n",
    "\n",
    "Esta seção está destinada a pegar os pesos do modelo do autoencoder e separar o peso para o modelo de codificação. O modelo de decodificação é inviável de ser separado, pois ele é dependente de camadas de UpSampling2D e Reshape."
   ]
  },
  {
   "cell_type": "code",
   "execution_count": 90,
   "metadata": {},
   "outputs": [],
   "source": [
    "encoder_conv = Model(autoencoder_flattening_conv.layers[0].input, autoencoder_flattening_conv.layers[5].output)"
   ]
  },
  {
   "cell_type": "code",
   "execution_count": 78,
   "metadata": {},
   "outputs": [
    {
     "data": {
      "text/plain": [
       "<keras.src.callbacks.history.History at 0x7f67bc26fe80>"
      ]
     },
     "execution_count": 78,
     "metadata": {},
     "output_type": "execute_result"
    }
   ],
   "source": [
    "autoencoder_flattening_conv.fit(\n",
    "  x_train_conv, x_train_conv,\n",
    "  epochs=50, batch_size=256, verbose=0,\n",
    "  callbacks=[CSVLogger('cv2_logger_autoencor_falleng_conv.csv', append=False)],\n",
    "  validation_data=(x_test_conv, x_test_conv)\n",
    ")"
   ]
  },
  {
   "cell_type": "markdown",
   "metadata": {},
   "source": [
    "### Predictions\n",
    "\n",
    "Foi utilizado o modelo completo para fazer a parte de decodificação, e a parte de codificação foi feita separadamente."
   ]
  },
  {
   "cell_type": "code",
   "execution_count": 91,
   "metadata": {},
   "outputs": [
    {
     "name": "stdout",
     "output_type": "stream",
     "text": [
      "\u001b[1m313/313\u001b[0m \u001b[32m━━━━━━━━━━━━━━━━━━━━\u001b[0m\u001b[37m\u001b[0m \u001b[1m1s\u001b[0m 3ms/step\n",
      "\u001b[1m313/313\u001b[0m \u001b[32m━━━━━━━━━━━━━━━━━━━━\u001b[0m\u001b[37m\u001b[0m \u001b[1m2s\u001b[0m 4ms/step\n"
     ]
    }
   ],
   "source": [
    "encoded_imgs_conv = encoder_conv.predict(x_test_conv)\n",
    "decoded_imgs_conv = autoencoder_flattening_conv.predict(x_test_conv)"
   ]
  },
  {
   "cell_type": "markdown",
   "metadata": {},
   "source": [
    "#### Visualizing the Results\n",
    "\n",
    "Nesta seção será apresentado os resultados obtidos com o Autoencoder. Será exibido as imagens de entrada, representação de menor dimensão e imagens de saída para verificar a capacidade do Autoencoder de comprimir e reconstruir as imagens. Além disso, será calculado a quantidade de informação preservada pelo Autoencoder, a similaridade entre as imagens de entrada e saída."
   ]
  },
  {
   "cell_type": "code",
   "execution_count": 92,
   "metadata": {},
   "outputs": [
    {
     "name": "stdout",
     "output_type": "stream",
     "text": [
      "Encoded size: 4.88 MB -> Predicted size: 29.91 MB. Reduction size: 25.02 MB\n",
      "Percentage reduction: 83.67%\n",
      "Similarity percentage: 97.28%\n"
     ]
    },
    {
     "data": {
      "image/png": "[encoded data removed]",
      "text/plain": [
       "<Figure size 2000x400 with 30 Axes>"
      ]
     },
     "metadata": {},
     "output_type": "display_data"
    }
   ],
   "source": [
    "size_encoded = encoded_imgs_conv.__sizeof__()\n",
    "size_pred = decoded_imgs_conv.__sizeof__()\n",
    "\n",
    "size_encoded_mb = size_encoded / 1024 / 1024\n",
    "size_pred_mb = size_pred / 1024 / 1024\n",
    "\n",
    "reduction_size = abs(size_encoded_mb - size_pred_mb)\n",
    "percentage_reduction = (1 - (size_encoded_mb / size_pred_mb)) * 100\n",
    "similarity_percentage = (1 - np.mean(np.abs(x_test_conv - decoded_imgs_conv))) * 100\n",
    "\n",
    "print(f\"Encoded size: {size_encoded_mb:.2f} MB -> Predicted size: {size_pred_mb:.2f} MB. Reduction size: {reduction_size:.2f} MB\")\n",
    "print(f\"Percentage reduction: {percentage_reduction:.2f}%\")\n",
    "print(f\"Similarity percentage: {similarity_percentage:.2f}%\")\n",
    "\n",
    "\n",
    "QTD_IMGS = 10\n",
    "plt.figure(figsize=(20, 4))\n",
    "for i in range(QTD_IMGS):\n",
    "  # Original images\n",
    "  plt.subplot(3, QTD_IMGS, i + 1)\n",
    "  plt.imshow(x_test[i], cmap='gray')\n",
    "  plt.axis('off')\n",
    "  \n",
    "  # Encoded images\n",
    "  plt.subplot(3, QTD_IMGS, i + QTD_IMGS + 1)\n",
    "  plt.imshow(encoded_imgs_conv[i].reshape(16, 8), cmap='gray')\n",
    "  plt.axis('off')\n",
    "  \n",
    "  # Reconstructed images\n",
    "  plt.subplot(3, QTD_IMGS, i + 2 * QTD_IMGS + 1)\n",
    "  plt.imshow(decoded_imgs_conv[i].reshape(28, 28, 1), cmap='gray')\n",
    "  plt.axis('off')\n",
    "  \n",
    "plt.show()"
   ]
  }
 ],
 "metadata": {
  "kernelspec": {
   "display_name": "Python 3",
   "language": "python",
   "name": "python3"
  },
  "language_info": {
   "codemirror_mode": {
    "name": "ipython",
    "version": 3
   },
   "file_extension": ".py",
   "mimetype": "text/x-python",
   "name": "python",
   "nbconvert_exporter": "python",
   "pygments_lexer": "ipython3",
   "version": "3.10.12"
  }
 },
 "nbformat": 4,
 "nbformat_minor": 2
}
