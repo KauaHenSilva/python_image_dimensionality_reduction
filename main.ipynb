{
 "cells": [
  {
   "cell_type": "markdown",
   "metadata": {},
   "source": [
    "# Imports"
   ]
  },
  {
   "cell_type": "code",
   "execution_count": 82,
   "metadata": {},
   "outputs": [],
   "source": [
    "%pip install tensorflow==2.16.1 --quiet"
   ]
  },
  {
   "cell_type": "code",
   "execution_count": 83,
   "metadata": {},
   "outputs": [],
   "source": [
    "import tensorflow as tf\n",
    "import numpy as np\n",
    "import matplotlib"
   ]
  },
  {
   "cell_type": "code",
   "execution_count": 84,
   "metadata": {},
   "outputs": [
    {
     "data": {
      "text/plain": [
       "('2.16.1', '1.26.4', '3.8.0')"
      ]
     },
     "execution_count": 84,
     "metadata": {},
     "output_type": "execute_result"
    }
   ],
   "source": [
    "tf.__version__, np.__version__, matplotlib.__version__"
   ]
  },
  {
   "cell_type": "code",
   "execution_count": 85,
   "metadata": {},
   "outputs": [],
   "source": [
    "from tensorflow.keras.datasets import mnist\n",
    "from tensorflow.keras.models import Sequential, Model\n",
    "from tensorflow.keras.layers import Input, Dense\n",
    "from tensorflow.keras import utils as keras_utils\n",
    "from tensorflow.keras.callbacks import ModelCheckpoint, CSVLogger\n",
    "import matplotlib.pyplot as plt"
   ]
  },
  {
   "cell_type": "markdown",
   "metadata": {},
   "source": [
    "# Database"
   ]
  },
  {
   "cell_type": "markdown",
   "metadata": {},
   "source": [
    "## Download the databased"
   ]
  },
  {
   "cell_type": "code",
   "execution_count": 86,
   "metadata": {},
   "outputs": [
    {
     "name": "stdout",
     "output_type": "stream",
     "text": [
      "\n",
      "  null values:\n",
      "  x_train: 0\n",
      "  y_train: 0\n",
      "  x_test: 0\n",
      "  y_test: 0    \n",
      "  \n",
      "  Shapes:\n",
      "  x_train: (60000, 28, 28)\n",
      "  y_train: (60000,)\n",
      "  x_test: (10000, 28, 28)\n",
      "  y_test: (10000,)\n",
      "  \n",
      "  Max/Min values:\n",
      "  x_train: 255\\0\n",
      "  y_train: 9\\0\n",
      "  x_test: 255\\0\n",
      "  y_test: 9\\0\n",
      "\n"
     ]
    }
   ],
   "source": [
    "(x_train, y_train), (x_test, y_test) =  mnist.load_data()\n",
    "print(f\"\"\"\n",
    "  null values:\n",
    "  x_train: {np.isnan(x_train).sum()}\n",
    "  y_train: {np.isnan(y_train).sum()}\n",
    "  x_test: {np.isnan(x_test).sum()}\n",
    "  y_test: {np.isnan(y_test).sum()}    \n",
    "  \n",
    "  Shapes:\n",
    "  x_train: {x_train.shape}\n",
    "  y_train: {y_train.shape}\n",
    "  x_test: {x_test.shape}\n",
    "  y_test: {y_test.shape}\n",
    "  \n",
    "  Max/Min values:\n",
    "  x_train: {x_train.max()}\\{x_train.min()}\n",
    "  y_train: {y_train.max()}\\{y_train.min()}\n",
    "  x_test: {x_test.max()}\\{x_test.min()}\n",
    "  y_test: {y_test.max()}\\{y_test.min()}\n",
    "\"\"\")"
   ]
  },
  {
   "cell_type": "markdown",
   "metadata": {},
   "source": [
    "## Preprocessing"
   ]
  },
  {
   "cell_type": "markdown",
   "metadata": {},
   "source": [
    "### Normalization"
   ]
  },
  {
   "cell_type": "code",
   "execution_count": 87,
   "metadata": {},
   "outputs": [
    {
     "name": "stdout",
     "output_type": "stream",
     "text": [
      "Min/Max: x_train=1.0/0.0, x_test=1.0/0.0\n"
     ]
    }
   ],
   "source": [
    "x_train, x_test = x_train / x_train[0].max(), x_test / x_test[0].max()\n",
    "print(f\"Min/Max: x_train={x_train[0].max()}/{x_train[0].min()}, x_test={x_test[0].max()}/{x_test[0].min()}\")"
   ]
  },
  {
   "cell_type": "markdown",
   "metadata": {},
   "source": [
    "### Train-test flatten"
   ]
  },
  {
   "cell_type": "code",
   "execution_count": 88,
   "metadata": {},
   "outputs": [
    {
     "data": {
      "text/plain": [
       "((60000, 784), (10000, 784))"
      ]
     },
     "execution_count": 88,
     "metadata": {},
     "output_type": "execute_result"
    }
   ],
   "source": [
    "x_train_flatten = x_train.reshape(-1, np.prod(x_train.shape[1:]))\n",
    "x_test_flatten = x_test.reshape(-1, np.prod(x_test.shape[1:]))\n",
    "x_train_flatten.shape, x_test_flatten.shape"
   ]
  },
  {
   "cell_type": "markdown",
   "metadata": {},
   "source": [
    "### test categories"
   ]
  },
  {
   "cell_type": "code",
   "execution_count": 89,
   "metadata": {},
   "outputs": [
    {
     "data": {
      "text/plain": [
       "((60000, 10), (10000, 10))"
      ]
     },
     "execution_count": 89,
     "metadata": {},
     "output_type": "execute_result"
    }
   ],
   "source": [
    "y_train, y_test = keras_utils.to_categorical(y_train), keras_utils.to_categorical(y_test)\n",
    "y_train.shape, y_test.shape"
   ]
  },
  {
   "cell_type": "markdown",
   "metadata": {},
   "source": [
    "# Visualizing Image Dimensionality Reduction"
   ]
  },
  {
   "cell_type": "code",
   "execution_count": null,
   "metadata": {},
   "outputs": [],
   "source": [
    "QTD_NEURO_ENCODER = 128"
   ]
  },
  {
   "cell_type": "markdown",
   "metadata": {},
   "source": [
    "## Building and Training the Model"
   ]
  },
  {
   "cell_type": "code",
   "execution_count": null,
   "metadata": {},
   "outputs": [],
   "source": [
    "csv_logger_autoencor_falleng = CSVLogger('csv_logger_autoencor_falleng.csv', append=False)\n",
    "autoencoder_falleng = Sequential()\n",
    "autoencoder_falleng.add(Input(shape=(x_train_flatten.shape[1],)))\n",
    "autoencoder_falleng.add(Dense(QTD_NEURO_ENCODER, activation='relu'))\n",
    "autoencoder_falleng.add(Dense(x_train_flatten.shape[1], activation='sigmoid'))\n",
    "autoencoder_falleng.compile(optimizer='adam', loss='binary_crossentropy', metrics=['accuracy'])\n",
    "autoencoder_falleng.fit(x_train_flatten, x_train_flatten, epochs=50, batch_size=256, verbose=0, callbacks=[csv_logger_autoencor_falleng]);"
   ]
  },
  {
   "cell_type": "code",
   "execution_count": null,
   "metadata": {},
   "outputs": [],
   "source": [
    "img_flatten = Input(shape=(x_train_flatten.shape[1],))\n",
    "img_encoded_flatten = Input(shape=(QTD_NEURO_ENCODER,))\n",
    "encoder_flatting = Model(img_flatten, autoencoder_falleng.layers[0](img_flatten))\n",
    "decoder_flatting = Model(img_encoded_flatten, autoencoder_falleng.layers[-1](img_encoded_flatten))"
   ]
  },
  {
   "cell_type": "markdown",
   "metadata": {},
   "source": [
    "## Predictions"
   ]
  },
  {
   "cell_type": "code",
   "execution_count": 92,
   "metadata": {},
   "outputs": [
    {
     "name": "stdout",
     "output_type": "stream",
     "text": [
      "\u001b[1m313/313\u001b[0m \u001b[32m━━━━━━━━━━━━━━━━━━━━\u001b[0m\u001b[37m\u001b[0m \u001b[1m0s\u001b[0m 1ms/step\n",
      "\u001b[1m313/313\u001b[0m \u001b[32m━━━━━━━━━━━━━━━━━━━━\u001b[0m\u001b[37m\u001b[0m \u001b[1m0s\u001b[0m 1ms/step\n"
     ]
    },
    {
     "data": {
      "text/plain": [
       "((10000, 128), (10000, 784))"
      ]
     },
     "execution_count": 92,
     "metadata": {},
     "output_type": "execute_result"
    }
   ],
   "source": [
    "imgs_encoded_flatting = encoder_flatting.predict(x_test_flatten)\n",
    "imgs_decoded_flatting = decoder_flatting.predict(imgs_encoded_flatting)\n",
    "imgs_encoded_flatting.shape, imgs_decoded_flatting.shape"
   ]
  },
  {
   "cell_type": "markdown",
   "metadata": {},
   "source": [
    "## Visualizing the Results"
   ]
  },
  {
   "cell_type": "code",
   "execution_count": 93,
   "metadata": {},
   "outputs": [
    {
     "name": "stdout",
     "output_type": "stream",
     "text": [
      "Encoded size: 4.88 MB -> Predicted size: 29.91 MB. Reduction size: 25.02 MB\n",
      "Percentage reduction: 83.67%\n",
      "Similarity percentage: 98.78%\n"
     ]
    },
    {
     "data": {
      "image/png": "[encoded data removed]",
      "text/plain": [
       "<Figure size 2000x400 with 30 Axes>"
      ]
     },
     "metadata": {},
     "output_type": "display_data"
    }
   ],
   "source": [
    "size_encoded = imgs_encoded_flatting.__sizeof__()\n",
    "size_pred = imgs_decoded_flatting.__sizeof__()\n",
    "size_encoded_mb = size_encoded / 1024 / 1024\n",
    "size_pred_mb = size_pred / 1024 / 1024\n",
    "reduction_size = abs(size_encoded_mb - size_pred_mb)\n",
    "reduction_rate = size_pred_mb / size_encoded_mb\n",
    "percentage_reduction = (1 - (size_encoded_mb / size_pred_mb)) * 100\n",
    "mean_diff = np.mean(np.abs(x_test_flatten - imgs_decoded_flatting))\n",
    "similarity_percentage = (1 - mean_diff) * 100\n",
    "\n",
    "print(f\"Encoded size: {size_encoded_mb:.2f} MB -> Predicted size: {size_pred_mb:.2f} MB. Reduction size: {reduction_size:.2f} MB\")\n",
    "print(f\"Percentage reduction: {percentage_reduction:.2f}%\")\n",
    "print(f\"Similarity percentage: {similarity_percentage:.2f}%\")\n",
    "\n",
    "QTD_IMGS = 10\n",
    "plt.figure(figsize=(20, 4))\n",
    "for i in range(QTD_IMGS):\n",
    "  # Original images\n",
    "  plt.subplot(3, QTD_IMGS, i + 1)\n",
    "  plt.imshow(x_test[i], cmap='gray')\n",
    "  plt.axis('off')\n",
    "  \n",
    "  # Encoded images\n",
    "  plt.subplot(3, QTD_IMGS, i + QTD_IMGS + 1)\n",
    "  plt.imshow(imgs_encoded_flatting[i].reshape(16, 8), cmap='gray')\n",
    "  plt.axis('off')\n",
    "  \n",
    "  # Reconstructed images\n",
    "  plt.subplot(3, QTD_IMGS, i + 2 * QTD_IMGS + 1)\n",
    "  plt.imshow(imgs_decoded_flatting[i].reshape(28, 28), cmap='gray')\n",
    "  plt.axis('off')\n",
    "  \n",
    "plt.show()"
   ]
  },
  {
   "cell_type": "markdown",
   "metadata": {},
   "source": [
    "# Visualizing Image Dimensionality Reduction - Categorical"
   ]
  },
  {
   "cell_type": "markdown",
   "metadata": {},
   "source": [
    "## Building and Training the Model"
   ]
  },
  {
   "cell_type": "code",
   "execution_count": 110,
   "metadata": {},
   "outputs": [],
   "source": [
    "QTD_NEURO_ENCODER = 32"
   ]
  },
  {
   "cell_type": "markdown",
   "metadata": {},
   "source": [
    "#### Encoding Model"
   ]
  },
  {
   "cell_type": "code",
   "execution_count": null,
   "metadata": {},
   "outputs": [],
   "source": [
    "csv_logger_autoencor_falleng_2 = CSVLogger('csv_logger_autoencor_falleng_2.csv', append=False)\n",
    "autoencoder_falleng_2 = Sequential()\n",
    "autoencoder_falleng_2.add(Input(shape=(x_train_flatten.shape[1],)))\n",
    "autoencoder_falleng_2.add(Dense(32, activation='relu'))\n",
    "autoencoder_falleng_2.add(Dense(x_train_flatten.shape[1], activation='sigmoid'))\n",
    "autoencoder_falleng_2.compile(optimizer='adam', loss='binary_crossentropy', metrics=['accuracy'])\n",
    "autoencoder_falleng_2.fit(x_train_flatten, x_train_flatten, epochs=50, batch_size=256, verbose=0, callbacks=[csv_logger_autoencor_falleng_2]);"
   ]
  },
  {
   "cell_type": "code",
   "execution_count": null,
   "metadata": {},
   "outputs": [],
   "source": [
    "img_flatten_2 = Input(shape=(x_train_flatten.shape[1],))\n",
    "img_encoded_flatten_2 = Input(shape=(QTD_NEURO_ENCODER,))\n",
    "encoder_flatting_2 = Model(img_flatten_2, autoencoder_falleng_2.layers[0](img_flatten_2))\n",
    "decoder_flatting_2 = Model(img_encoded_flatten_2, autoencoder_falleng_2.layers[-1](img_encoded_flatten_2))"
   ]
  },
  {
   "cell_type": "markdown",
   "metadata": {},
   "source": [
    "#### Category Models"
   ]
  },
  {
   "cell_type": "code",
   "execution_count": 111,
   "metadata": {},
   "outputs": [],
   "source": [
    "units_count = int((x_train_flatten.shape[1] + y_train.shape[1]) / 2)"
   ]
  },
  {
   "cell_type": "code",
   "execution_count": null,
   "metadata": {},
   "outputs": [],
   "source": [
    "cv2_logger_classifier_no_encoded = CSVLogger('cv2_logger_classifier_no_encoded.csv', append=False)\n",
    "network_no_encoded = Sequential()\n",
    "network_no_encoded.add(Input(shape=(x_train_flatten.shape[1],)))\n",
    "network_no_encoded.add(Dense(units_count, activation='relu'))\n",
    "network_no_encoded.add(Dense(units_count, activation='relu'))\n",
    "network_no_encoded.add(Dense(10, activation='softmax'))\n",
    "network_no_encoded.compile(optimizer='adam', loss='categorical_crossentropy', metrics=['accuracy'])\n",
    "params_no_encoded = network_no_encoded.count_params()\n",
    "params_no_encoded"
   ]
  },
  {
   "cell_type": "code",
   "execution_count": null,
   "metadata": {},
   "outputs": [
    {
     "data": {
      "text/plain": [
       "<keras.src.callbacks.history.History at 0x7fd8483b59f0>"
      ]
     },
     "execution_count": 113,
     "metadata": {},
     "output_type": "execute_result"
    }
   ],
   "source": [
    "%%time\n",
    "network_no_encoded.fit(\n",
    "    x_train_flatten, y_train, \n",
    "    epochs=50, batch_size=256, verbose=0,\n",
    "    callbacks=[cv2_logger_classifier_no_encoded],\n",
    "    validation_data=(x_test_flatten, y_test)\n",
    ");"
   ]
  },
  {
   "cell_type": "code",
   "execution_count": 114,
   "metadata": {},
   "outputs": [],
   "source": [
    "units_count = int((QTD_NEURO_ENCODER + y_train.shape[1]) / 2)"
   ]
  },
  {
   "cell_type": "code",
   "execution_count": null,
   "metadata": {},
   "outputs": [],
   "source": [
    "cv2_logger_classifier_encoded = CSVLogger('cv2_logger_classifier_encoded.csv', append=False)\n",
    "network_encoded = Sequential()\n",
    "network_encoded.add(Input(shape=(QTD_NEURO_ENCODER,)))\n",
    "network_encoded.add(Dense(units_count, activation='relu'))\n",
    "network_encoded.add(Dense(units_count, activation='relu'))\n",
    "network_encoded.add(Dense(10, activation='softmax'))\n",
    "network_encoded.compile(optimizer='adam', loss='categorical_crossentropy', metrics=['accuracy'])\n",
    "params_encoded = network_encoded.count_params()\n",
    "params_encoded"
   ]
  },
  {
   "cell_type": "code",
   "execution_count": null,
   "metadata": {},
   "outputs": [
    {
     "name": "stdout",
     "output_type": "stream",
     "text": [
      "\u001b[1m1875/1875\u001b[0m \u001b[32m━━━━━━━━━━━━━━━━━━━━\u001b[0m\u001b[37m\u001b[0m \u001b[1m3s\u001b[0m 1ms/step\n",
      "\u001b[1m313/313\u001b[0m \u001b[32m━━━━━━━━━━━━━━━━━━━━\u001b[0m\u001b[37m\u001b[0m \u001b[1m0s\u001b[0m 1ms/step\n"
     ]
    }
   ],
   "source": [
    "%%time\n",
    "network_encoded.fit(\n",
    "  encoder_flatting_2.predict(x_train_flatten), y_train, \n",
    "  epochs=50, batch_size=256, verbose=0, \n",
    "  callbacks=[cv2_logger_classifier_encoded],\n",
    "  validation_data=(encoder_flatting_2.predict(x_test_flatten), y_test)\n",
    ");"
   ]
  },
  {
   "cell_type": "markdown",
   "metadata": {},
   "source": [
    "## Predictions"
   ]
  },
  {
   "cell_type": "code",
   "execution_count": 117,
   "metadata": {},
   "outputs": [
    {
     "name": "stdout",
     "output_type": "stream",
     "text": [
      "\u001b[1m1875/1875\u001b[0m \u001b[32m━━━━━━━━━━━━━━━━━━━━\u001b[0m\u001b[37m\u001b[0m \u001b[1m3s\u001b[0m 1ms/step\n",
      "\u001b[1m313/313\u001b[0m \u001b[32m━━━━━━━━━━━━━━━━━━━━\u001b[0m\u001b[37m\u001b[0m \u001b[1m0s\u001b[0m 1ms/step\n",
      "\u001b[1m1875/1875\u001b[0m \u001b[32m━━━━━━━━━━━━━━━━━━━━\u001b[0m\u001b[37m\u001b[0m \u001b[1m3s\u001b[0m 1ms/step\n",
      "\u001b[1m313/313\u001b[0m \u001b[32m━━━━━━━━━━━━━━━━━━━━\u001b[0m\u001b[37m\u001b[0m \u001b[1m0s\u001b[0m 1ms/step\n"
     ]
    }
   ],
   "source": [
    "imgs_encoded_x_train_flatting_2 = encoder_flatting_2.predict(x_train_flatten)\n",
    "imgs_encoded_x_test_flatting_2 = encoder_flatting_2.predict(x_test_flatten)\n",
    "imgs_decoded_x_train_flatting_2 = decoder_flatting_2.predict(imgs_encoded_x_train_flatting_2)\n",
    "imgs_decoded_x_test_flatting_2 = decoder_flatting_2.predict(imgs_encoded_x_test_flatting_2)"
   ]
  },
  {
   "cell_type": "code",
   "execution_count": 121,
   "metadata": {},
   "outputs": [
    {
     "name": "stdout",
     "output_type": "stream",
     "text": [
      "\u001b[1m313/313\u001b[0m \u001b[32m━━━━━━━━━━━━━━━━━━━━\u001b[0m\u001b[37m\u001b[0m \u001b[1m1s\u001b[0m 2ms/step\n",
      "CPU times: user 625 ms, sys: 75.4 ms, total: 701 ms\n",
      "Wall time: 785 ms\n"
     ]
    }
   ],
   "source": [
    "%%time\n",
    "predicitions_no_encoded_categorical = network_no_encoded.predict(x_test_flatten)"
   ]
  },
  {
   "cell_type": "code",
   "execution_count": null,
   "metadata": {},
   "outputs": [
    {
     "name": "stdout",
     "output_type": "stream",
     "text": [
      "\u001b[1m313/313\u001b[0m \u001b[32m━━━━━━━━━━━━━━━━━━━━\u001b[0m\u001b[37m\u001b[0m \u001b[1m1s\u001b[0m 2ms/step\n",
      "CPU times: user 575 ms, sys: 160 ms, total: 736 ms\n",
      "Wall time: 704 ms\n"
     ]
    }
   ],
   "source": [
    "%%time\n",
    "temp = encoder_flatting_2.predict(x_test_flatten)"
   ]
  },
  {
   "cell_type": "code",
   "execution_count": 138,
   "metadata": {},
   "outputs": [
    {
     "name": "stdout",
     "output_type": "stream",
     "text": [
      "CPU times: user 3 µs, sys: 0 ns, total: 3 µs\n",
      "Wall time: 6.44 µs\n",
      "\u001b[1m313/313\u001b[0m \u001b[32m━━━━━━━━━━━━━━━━━━━━\u001b[0m\u001b[37m\u001b[0m \u001b[1m1s\u001b[0m 2ms/step\n"
     ]
    }
   ],
   "source": [
    "%time\n",
    "predicitions_encoded_categorical = network_encoded.predict(temp)"
   ]
  },
  {
   "cell_type": "code",
   "execution_count": 139,
   "metadata": {},
   "outputs": [
    {
     "data": {
      "text/plain": [
       "(array([7, 2, 1, 0, 4, 1, 4, 9, 5, 9]),\n",
       " array([7, 2, 1, 0, 4, 1, 4, 9, 5, 9]),\n",
       " array([7, 2, 1, 0, 4, 1, 4, 9, 5, 9]))"
      ]
     },
     "execution_count": 139,
     "metadata": {},
     "output_type": "execute_result"
    }
   ],
   "source": [
    "predicitions_no_encoded = np.argmax(predicitions_no_encoded_categorical, axis=1)\n",
    "predicitions_encoded = np.argmax(predicitions_encoded_categorical, axis=1)\n",
    "predicitions_no_encoded[:10], predicitions_encoded[:10], np.argmax(y_test[:10], axis=1)"
   ]
  },
  {
   "cell_type": "markdown",
   "metadata": {},
   "source": [
    "## Visualizing the Results"
   ]
  },
  {
   "cell_type": "code",
   "execution_count": 133,
   "metadata": {},
   "outputs": [
    {
     "name": "stdout",
     "output_type": "stream",
     "text": [
      "Encoded size: 1.22 MB -> Predicted size: 29.91 MB. Reduction size: 28.69 MB\n",
      "Percentage reduction: 95.92%\n",
      "Similarity percentage: 96.76%\n",
      "No encoded params: 473631 -> Encoded params: 1375. Reduction: 99.71%\n"
     ]
    },
    {
     "data": {
      "image/png": "[encoded data removed]",
      "text/plain": [
       "<Figure size 2000x400 with 30 Axes>"
      ]
     },
     "metadata": {},
     "output_type": "display_data"
    }
   ],
   "source": [
    "size_encoded = imgs_encoded_x_test_flatting_2.__sizeof__()\n",
    "size_pred = imgs_decoded_x_test_flatting_2.__sizeof__()\n",
    "size_encoded_mb = size_encoded / 1024 / 1024\n",
    "size_pred_mb = size_pred / 1024 / 1024\n",
    "reduction_size = abs(size_encoded_mb - size_pred_mb)\n",
    "reduction_rate = size_pred_mb / size_encoded_mb\n",
    "percentage_reduction = (1 - (size_encoded_mb / size_pred_mb)) * 100\n",
    "mean_diff = np.mean(np.abs(x_test_flatten - imgs_decoded_x_test_flatting_2))\n",
    "similarity_percentage = (1 - mean_diff) * 100\n",
    "reduction_porcentage = (1 - (params_encoded / params_no_encoded)) * 100\n",
    "\n",
    "\n",
    "print(f\"Encoded size: {size_encoded_mb:.2f} MB -> Predicted size: {size_pred_mb:.2f} MB. Reduction size: {reduction_size:.2f} MB\")\n",
    "print(f\"Percentage reduction: {percentage_reduction:.2f}%\")\n",
    "print(f\"Similarity percentage: {similarity_percentage:.2f}%\")\n",
    "print(f\"No encoded params: {params_no_encoded} -> Encoded params: {params_encoded}. Reduction: {reduction_porcentage:.2f}%\")\n",
    "\n",
    "\n",
    "QTD_IMGS = 10\n",
    "plt.figure(figsize=(20, 4))\n",
    "for i in range(QTD_IMGS):\n",
    "  # Original images\n",
    "  plt.subplot(3, QTD_IMGS, i + 1)\n",
    "  plt.imshow(x_test[i], cmap='gray')\n",
    "  plt.axis('off')\n",
    "  \n",
    "  # Encoded images\n",
    "  plt.subplot(3, QTD_IMGS, i + QTD_IMGS + 1)\n",
    "  plt.imshow(imgs_encoded_x_test_flatting_2[i].reshape(4, 8), cmap='gray')\n",
    "  plt.axis('off')\n",
    "  \n",
    "  # Reconstructed images\n",
    "  plt.subplot(3, QTD_IMGS, i + 2 * QTD_IMGS + 1)\n",
    "  plt.imshow(imgs_decoded_x_test_flatting_2[i].reshape(28, 28), cmap='gray')\n",
    "  plt.axis('off')\n",
    "  \n",
    "plt.show()"
   ]
  },
  {
   "cell_type": "code",
   "execution_count": 132,
   "metadata": {},
   "outputs": [
    {
     "name": "stdout",
     "output_type": "stream",
     "text": [
      "Accuracy no encoded: 0.99 -> Accuracy encoded: 0.95\n",
      "Accuracy difference: 0.04\n"
     ]
    }
   ],
   "source": [
    "accuracy_no_encoded = np.mean(predicitions_no_encoded == np.argmax(y_test, axis=1))\n",
    "accuracy_encoded = np.mean(predicitions_encoded == np.argmax(y_test, axis=1))\n",
    "\n",
    "print(f\"Accuracy no encoded: {accuracy_no_encoded:.2f} -> Accuracy encoded: {accuracy_encoded:.2f}\")\n",
    "print(f\"Accuracy difference: {abs(accuracy_encoded - accuracy_no_encoded):.2f}\")"
   ]
  }
 ],
 "metadata": {
  "kernelspec": {
   "display_name": "Python 3",
   "language": "python",
   "name": "python3"
  },
  "language_info": {
   "codemirror_mode": {
    "name": "ipython",
    "version": 3
   },
   "file_extension": ".py",
   "mimetype": "text/x-python",
   "name": "python",
   "nbconvert_exporter": "python",
   "pygments_lexer": "ipython3",
   "version": "3.10.12"
  }
 },
 "nbformat": 4,
 "nbformat_minor": 2
}
