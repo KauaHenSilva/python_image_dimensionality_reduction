{
 "cells": [
  {
   "cell_type": "markdown",
   "metadata": {},
   "source": [
    "# Imports"
   ]
  },
  {
   "cell_type": "code",
   "execution_count": 1,
   "metadata": {},
   "outputs": [],
   "source": [
    "%pip install tensorflow==2.16.1 --quiet"
   ]
  },
  {
   "cell_type": "code",
   "execution_count": 2,
   "metadata": {},
   "outputs": [],
   "source": [
    "import tensorflow as tf\n",
    "import numpy as np\n",
    "import matplotlib"
   ]
  },
  {
   "cell_type": "code",
   "execution_count": 3,
   "metadata": {},
   "outputs": [
    {
     "data": {
      "text/plain": [
       "('2.16.1', '1.26.4', '3.8.0')"
      ]
     },
     "execution_count": 3,
     "metadata": {},
     "output_type": "execute_result"
    }
   ],
   "source": [
    "tf.__version__, np.__version__, matplotlib.__version__"
   ]
  },
  {
   "cell_type": "code",
   "execution_count": 4,
   "metadata": {},
   "outputs": [],
   "source": [
    "from tensorflow.keras.datasets import mnist\n",
    "from tensorflow.keras.models import Sequential, Model\n",
    "from tensorflow.keras.layers import Input, Dense\n",
    "from tensorflow.keras import utils as keras_utils\n",
    "from tensorflow.keras.callbacks import ModelCheckpoint, CSVLogger\n",
    "import matplotlib.pyplot as plt"
   ]
  },
  {
   "cell_type": "markdown",
   "metadata": {},
   "source": [
    "# Database"
   ]
  },
  {
   "cell_type": "markdown",
   "metadata": {},
   "source": [
    "## Download the databased"
   ]
  },
  {
   "cell_type": "code",
   "execution_count": 5,
   "metadata": {},
   "outputs": [
    {
     "name": "stdout",
     "output_type": "stream",
     "text": [
      "\n",
      "  null values:\n",
      "  x_train: 0\n",
      "  y_train: 0\n",
      "  x_test: 0\n",
      "  y_test: 0    \n",
      "  \n",
      "  Shapes:\n",
      "  x_train: (60000, 28, 28)\n",
      "  y_train: (60000,)\n",
      "  x_test: (10000, 28, 28)\n",
      "  y_test: (10000,)\n",
      "  \n",
      "  Max/Min values:\n",
      "  x_train: 255\\0\n",
      "  y_train: 9\\0\n",
      "  x_test: 255\\0\n",
      "  y_test: 9\\0\n",
      "\n"
     ]
    }
   ],
   "source": [
    "(x_train, y_train), (x_test, y_test) =  mnist.load_data()\n",
    "print(f\"\"\"\n",
    "  null values:\n",
    "  x_train: {np.isnan(x_train).sum()}\n",
    "  y_train: {np.isnan(y_train).sum()}\n",
    "  x_test: {np.isnan(x_test).sum()}\n",
    "  y_test: {np.isnan(y_test).sum()}    \n",
    "  \n",
    "  Shapes:\n",
    "  x_train: {x_train.shape}\n",
    "  y_train: {y_train.shape}\n",
    "  x_test: {x_test.shape}\n",
    "  y_test: {y_test.shape}\n",
    "  \n",
    "  Max/Min values:\n",
    "  x_train: {x_train.max()}\\{x_train.min()}\n",
    "  y_train: {y_train.max()}\\{y_train.min()}\n",
    "  x_test: {x_test.max()}\\{x_test.min()}\n",
    "  y_test: {y_test.max()}\\{y_test.min()}\n",
    "\"\"\")"
   ]
  },
  {
   "cell_type": "markdown",
   "metadata": {},
   "source": [
    "## Preprocessing"
   ]
  },
  {
   "cell_type": "markdown",
   "metadata": {},
   "source": [
    "### Normalization"
   ]
  },
  {
   "cell_type": "code",
   "execution_count": 6,
   "metadata": {},
   "outputs": [
    {
     "name": "stdout",
     "output_type": "stream",
     "text": [
      "Min/Max: x_train=1.0/0.0, x_test=1.0/0.0\n"
     ]
    }
   ],
   "source": [
    "x_train, x_test = x_train / x_train[0].max(), x_test / x_test[0].max()\n",
    "print(f\"Min/Max: x_train={x_train[0].max()}/{x_train[0].min()}, x_test={x_test[0].max()}/{x_test[0].min()}\")"
   ]
  },
  {
   "cell_type": "markdown",
   "metadata": {},
   "source": [
    "### Train-test flatten"
   ]
  },
  {
   "cell_type": "code",
   "execution_count": 7,
   "metadata": {},
   "outputs": [
    {
     "data": {
      "text/plain": [
       "((60000, 784), (10000, 784))"
      ]
     },
     "execution_count": 7,
     "metadata": {},
     "output_type": "execute_result"
    }
   ],
   "source": [
    "x_train_flatten = x_train.reshape(-1, np.prod(x_train.shape[1:]))\n",
    "x_test_flatten = x_test.reshape(-1, np.prod(x_test.shape[1:]))\n",
    "x_train_flatten.shape, x_test_flatten.shape"
   ]
  },
  {
   "cell_type": "markdown",
   "metadata": {},
   "source": [
    "### test categories"
   ]
  },
  {
   "cell_type": "code",
   "execution_count": 8,
   "metadata": {},
   "outputs": [
    {
     "data": {
      "text/plain": [
       "((60000, 10), (10000, 10))"
      ]
     },
     "execution_count": 8,
     "metadata": {},
     "output_type": "execute_result"
    }
   ],
   "source": [
    "y_train, y_test = keras_utils.to_categorical(y_train), keras_utils.to_categorical(y_test)\n",
    "y_train.shape, y_test.shape"
   ]
  },
  {
   "cell_type": "markdown",
   "metadata": {},
   "source": [
    "# Visualizing Image Dimensionality Reduction"
   ]
  },
  {
   "cell_type": "markdown",
   "metadata": {},
   "source": [
    "## Building and Training the Model"
   ]
  },
  {
   "cell_type": "code",
   "execution_count": 9,
   "metadata": {},
   "outputs": [],
   "source": [
    "autoencoder_falleng = Sequential()\n",
    "autoencoder_falleng.add(Input(shape=(x_train_flatten.shape[1],)))\n",
    "autoencoder_falleng.add(Dense(128, activation='relu'))\n",
    "autoencoder_falleng.add(Dense(x_train_flatten.shape[1], activation='sigmoid'))\n",
    "autoencoder_falleng.compile(optimizer='adam', loss='binary_crossentropy', metrics=['accuracy'])"
   ]
  },
  {
   "cell_type": "code",
   "execution_count": 10,
   "metadata": {},
   "outputs": [],
   "source": [
    "csv_logger_autoencor_falleng = CSVLogger('csv_logger_autoencor_falleng.csv', append=False)\n",
    "autoencoder_falleng.fit(x_train_flatten, x_train_flatten, epochs=50, batch_size=256, verbose=0, callbacks=[csv_logger_autoencor_falleng]);"
   ]
  },
  {
   "cell_type": "code",
   "execution_count": 11,
   "metadata": {},
   "outputs": [],
   "source": [
    "img_flatten = Input(shape=(x_train_flatten.shape[1],))\n",
    "img_encoded_flatten = Input(shape=(128,))\n",
    "encoder_flatting = Model(img_flatten, autoencoder_falleng.layers[0](img_flatten))\n",
    "decoder_flatting = Model(img_encoded_flatten, autoencoder_falleng.layers[-1](img_encoded_flatten))"
   ]
  },
  {
   "cell_type": "markdown",
   "metadata": {},
   "source": [
    "## Predictions"
   ]
  },
  {
   "cell_type": "code",
   "execution_count": 12,
   "metadata": {},
   "outputs": [
    {
     "name": "stdout",
     "output_type": "stream",
     "text": [
      "\u001b[1m313/313\u001b[0m \u001b[32m━━━━━━━━━━━━━━━━━━━━\u001b[0m\u001b[37m\u001b[0m \u001b[1m1s\u001b[0m 2ms/step\n",
      "\u001b[1m313/313\u001b[0m \u001b[32m━━━━━━━━━━━━━━━━━━━━\u001b[0m\u001b[37m\u001b[0m \u001b[1m1s\u001b[0m 2ms/step\n"
     ]
    },
    {
     "data": {
      "text/plain": [
       "((10000, 128), (10000, 784))"
      ]
     },
     "execution_count": 12,
     "metadata": {},
     "output_type": "execute_result"
    }
   ],
   "source": [
    "imgs_encoded_flatting = encoder_flatting.predict(x_test_flatten)\n",
    "imgs_decoded_flatting = decoder_flatting.predict(imgs_encoded_flatting)\n",
    "imgs_encoded_flatting.shape, imgs_decoded_flatting.shape"
   ]
  },
  {
   "cell_type": "markdown",
   "metadata": {},
   "source": [
    "## Visualizing the Results"
   ]
  },
  {
   "cell_type": "code",
   "execution_count": 13,
   "metadata": {},
   "outputs": [
    {
     "name": "stdout",
     "output_type": "stream",
     "text": [
      "Encoded size: 4.88 MB -> Predicted size: 29.91 MB. Reduction size: 25.02 MB\n",
      "Percentage reduction: 83.67%\n",
      "Similarity percentage: 98.78%\n"
     ]
    },
    {
     "data": {
      "image/png": "[encoded data removed]",
      "text/plain": [
       "<Figure size 2000x400 with 30 Axes>"
      ]
     },
     "metadata": {},
     "output_type": "display_data"
    }
   ],
   "source": [
    "size_encoded = imgs_encoded_flatting.__sizeof__()\n",
    "size_pred = imgs_decoded_flatting.__sizeof__()\n",
    "size_encoded_mb = size_encoded / 1024 / 1024\n",
    "size_pred_mb = size_pred / 1024 / 1024\n",
    "reduction_size = abs(size_encoded_mb - size_pred_mb)\n",
    "reduction_rate = size_pred_mb / size_encoded_mb\n",
    "percentage_reduction = (1 - (size_encoded_mb / size_pred_mb)) * 100\n",
    "mean_diff = np.mean(np.abs(x_test_flatten - imgs_decoded_flatting))\n",
    "similarity_percentage = (1 - mean_diff) * 100\n",
    "\n",
    "print(f\"Encoded size: {size_encoded_mb:.2f} MB -> Predicted size: {size_pred_mb:.2f} MB. Reduction size: {reduction_size:.2f} MB\")\n",
    "print(f\"Percentage reduction: {percentage_reduction:.2f}%\")\n",
    "print(f\"Similarity percentage: {similarity_percentage:.2f}%\")\n",
    "\n",
    "QTD_IMGS = 10\n",
    "plt.figure(figsize=(20, 4))\n",
    "for i in range(QTD_IMGS):\n",
    "  # Original images\n",
    "  plt.subplot(3, QTD_IMGS, i + 1)\n",
    "  plt.imshow(x_test[i], cmap='gray')\n",
    "  plt.axis('off')\n",
    "  \n",
    "  # Encoded images\n",
    "  plt.subplot(3, QTD_IMGS, i + QTD_IMGS + 1)\n",
    "  plt.imshow(imgs_encoded_flatting[i].reshape(16, 8), cmap='gray')\n",
    "  plt.axis('off')\n",
    "  \n",
    "  # Reconstructed images\n",
    "  plt.subplot(3, QTD_IMGS, i + 2 * QTD_IMGS + 1)\n",
    "  plt.imshow(imgs_decoded_flatting[i].reshape(28, 28), cmap='gray')\n",
    "  plt.axis('off')\n",
    "  \n",
    "plt.show()"
   ]
  },
  {
   "cell_type": "markdown",
   "metadata": {},
   "source": [
    "# Visualizing Image Dimensionality Reduction - Categorical"
   ]
  },
  {
   "cell_type": "markdown",
   "metadata": {},
   "source": [
    "## Building and Training the Model"
   ]
  },
  {
   "cell_type": "code",
   "execution_count": 14,
   "metadata": {},
   "outputs": [],
   "source": [
    "autoencoder_falleng_2 = Sequential()\n",
    "autoencoder_falleng_2.add(Input(shape=(x_train_flatten.shape[1],)))\n",
    "autoencoder_falleng_2.add(Dense(32, activation='relu'))\n",
    "autoencoder_falleng_2.add(Dense(x_train_flatten.shape[1], activation='sigmoid'))\n",
    "autoencoder_falleng_2.compile(optimizer='adam', loss='binary_crossentropy', metrics=['accuracy'])"
   ]
  },
  {
   "cell_type": "code",
   "execution_count": 15,
   "metadata": {},
   "outputs": [],
   "source": [
    "csv_logger_autoencor_falleng_2 = CSVLogger('csv_logger_autoencor_falleng_2.csv', append=False)\n",
    "autoencoder_falleng_2.fit(x_train_flatten, x_train_flatten, epochs=50, batch_size=256, verbose=0, callbacks=[csv_logger_autoencor_falleng_2]);"
   ]
  },
  {
   "cell_type": "code",
   "execution_count": 16,
   "metadata": {},
   "outputs": [],
   "source": [
    "img_flatten_2 = Input(shape=(x_train_flatten.shape[1],))\n",
    "img_encoded_flatten_2 = Input(shape=(32,))\n",
    "encoder_flatting_2 = Model(img_flatten_2, autoencoder_falleng_2.layers[0](img_flatten_2))\n",
    "decoder_flatting_2 = Model(img_encoded_flatten_2, autoencoder_falleng_2.layers[-1](img_encoded_flatten_2))"
   ]
  },
  {
   "cell_type": "markdown",
   "metadata": {},
   "source": [
    "## Predictions"
   ]
  },
  {
   "cell_type": "code",
   "execution_count": 17,
   "metadata": {},
   "outputs": [
    {
     "name": "stdout",
     "output_type": "stream",
     "text": [
      "\u001b[1m1875/1875\u001b[0m \u001b[32m━━━━━━━━━━━━━━━━━━━━\u001b[0m\u001b[37m\u001b[0m \u001b[1m3s\u001b[0m 2ms/step\n",
      "\u001b[1m313/313\u001b[0m \u001b[32m━━━━━━━━━━━━━━━━━━━━\u001b[0m\u001b[37m\u001b[0m \u001b[1m1s\u001b[0m 2ms/step\n"
     ]
    },
    {
     "data": {
      "text/plain": [
       "((60000, 32), (10000, 32))"
      ]
     },
     "execution_count": 17,
     "metadata": {},
     "output_type": "execute_result"
    }
   ],
   "source": [
    "imgs_encoded_train_flatting_2 = encoder_flatting_2.predict(x_train_flatten)\n",
    "imgs_encoded_test_flatting_2 = encoder_flatting_2.predict(x_test_flatten)\n",
    "imgs_encoded_train_flatting_2.shape, imgs_encoded_test_flatting_2.shape"
   ]
  },
  {
   "cell_type": "code",
   "execution_count": 18,
   "metadata": {},
   "outputs": [
    {
     "name": "stdout",
     "output_type": "stream",
     "text": [
      "\u001b[1m1875/1875\u001b[0m \u001b[32m━━━━━━━━━━━━━━━━━━━━\u001b[0m\u001b[37m\u001b[0m \u001b[1m3s\u001b[0m 2ms/step\n",
      "\u001b[1m313/313\u001b[0m \u001b[32m━━━━━━━━━━━━━━━━━━━━\u001b[0m\u001b[37m\u001b[0m \u001b[1m1s\u001b[0m 2ms/step\n"
     ]
    },
    {
     "data": {
      "text/plain": [
       "((60000, 784), (10000, 784))"
      ]
     },
     "execution_count": 18,
     "metadata": {},
     "output_type": "execute_result"
    }
   ],
   "source": [
    "imgs_decoded_train_flatting_2 = decoder_flatting_2.predict(imgs_encoded_train_flatting_2)\n",
    "imgs_decoded_test_flatting_2 = decoder_flatting_2.predict(imgs_encoded_test_flatting_2)\n",
    "imgs_decoded_train_flatting_2.shape, imgs_decoded_test_flatting_2.shape"
   ]
  },
  {
   "cell_type": "markdown",
   "metadata": {},
   "source": [
    "## Visualizing the Results"
   ]
  },
  {
   "cell_type": "code",
   "execution_count": 21,
   "metadata": {},
   "outputs": [
    {
     "name": "stdout",
     "output_type": "stream",
     "text": [
      "Encoded size: 1.22 MB -> Predicted size: 29.91 MB. Reduction size: 28.69 MB\n",
      "Percentage reduction: 95.92%\n",
      "Similarity percentage: 96.68%\n"
     ]
    }
   ],
   "source": [
    "size_encoded = imgs_encoded_test_flatting_2.__sizeof__()\n",
    "size_pred = imgs_decoded_test_flatting_2.__sizeof__()\n",
    "size_encoded_mb = size_encoded / 1024 / 1024\n",
    "size_pred_mb = size_pred / 1024 / 1024\n",
    "reduction_size = abs(size_encoded_mb - size_pred_mb)\n",
    "reduction_rate = size_pred_mb / size_encoded_mb\n",
    "percentage_reduction = (1 - (size_encoded_mb / size_pred_mb)) * 100\n",
    "mean_diff = np.mean(np.abs(x_test_flatten - imgs_decoded_test_flatting_2))\n",
    "similarity_percentage = (1 - mean_diff) * 100\n",
    "\n",
    "print(f\"Encoded size: {size_encoded_mb:.2f} MB -> Predicted size: {size_pred_mb:.2f} MB. Reduction size: {reduction_size:.2f} MB\")\n",
    "print(f\"Percentage reduction: {percentage_reduction:.2f}%\")\n",
    "print(f\"Similarity percentage: {similarity_percentage:.2f}%\")"
   ]
  }
 ],
 "metadata": {
  "kernelspec": {
   "display_name": "Python 3",
   "language": "python",
   "name": "python3"
  },
  "language_info": {
   "codemirror_mode": {
    "name": "ipython",
    "version": 3
   },
   "file_extension": ".py",
   "mimetype": "text/x-python",
   "name": "python",
   "nbconvert_exporter": "python",
   "pygments_lexer": "ipython3",
   "version": "3.10.12"
  }
 },
 "nbformat": 4,
 "nbformat_minor": 2
}
