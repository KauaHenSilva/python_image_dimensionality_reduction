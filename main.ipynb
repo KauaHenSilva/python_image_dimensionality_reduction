{
 "cells": [
  {
   "cell_type": "markdown",
   "metadata": {},
   "source": [
    "# Imports"
   ]
  },
  {
   "cell_type": "code",
   "execution_count": 251,
   "metadata": {},
   "outputs": [],
   "source": [
    "%pip install tensorflow==2.16.1 --quiet"
   ]
  },
  {
   "cell_type": "code",
   "execution_count": 252,
   "metadata": {},
   "outputs": [],
   "source": [
    "import tensorflow as tf\n",
    "import numpy as np\n",
    "import matplotlib"
   ]
  },
  {
   "cell_type": "code",
   "execution_count": 253,
   "metadata": {},
   "outputs": [
    {
     "data": {
      "text/plain": [
       "('2.16.1', '1.26.4', '3.8.0')"
      ]
     },
     "execution_count": 253,
     "metadata": {},
     "output_type": "execute_result"
    }
   ],
   "source": [
    "tf.__version__, np.__version__, matplotlib.__version__"
   ]
  },
  {
   "cell_type": "code",
   "execution_count": null,
   "metadata": {},
   "outputs": [],
   "source": [
    "from tensorflow.keras.datasets import mnist\n",
    "from tensorflow.keras.models import Sequential, Model\n",
    "from tensorflow.keras.layers import Input, Dense\n",
    "from tensorflow.keras import utils as keras_utils\n",
    "from tensorflow.keras.callbacks import CSVLogger\n",
    "import matplotlib.pyplot as plt"
   ]
  },
  {
   "cell_type": "markdown",
   "metadata": {},
   "source": [
    "# Database"
   ]
  },
  {
   "cell_type": "markdown",
   "metadata": {},
   "source": [
    "## Download the databased"
   ]
  },
  {
   "cell_type": "code",
   "execution_count": 255,
   "metadata": {},
   "outputs": [
    {
     "name": "stdout",
     "output_type": "stream",
     "text": [
      "\n",
      "  null values:\n",
      "  x_train: 0\n",
      "  y_train: 0\n",
      "  x_test: 0\n",
      "  y_test: 0    \n",
      "  \n",
      "  Shapes:\n",
      "  x_train: (60000, 28, 28)\n",
      "  y_train: (60000,)\n",
      "  x_test: (10000, 28, 28)\n",
      "  y_test: (10000,)\n",
      "  \n",
      "  Max/Min values:\n",
      "  x_train: 255\\0\n",
      "  y_train: 9\\0\n",
      "  x_test: 255\\0\n",
      "  y_test: 9\\0\n",
      "\n"
     ]
    }
   ],
   "source": [
    "(x_train, y_train), (x_test, y_test) =  mnist.load_data()\n",
    "print(f\"\"\"\n",
    "  null values:\n",
    "  x_train: {np.isnan(x_train).sum()}\n",
    "  y_train: {np.isnan(y_train).sum()}\n",
    "  x_test: {np.isnan(x_test).sum()}\n",
    "  y_test: {np.isnan(y_test).sum()}    \n",
    "  \n",
    "  Shapes:\n",
    "  x_train: {x_train.shape}\n",
    "  y_train: {y_train.shape}\n",
    "  x_test: {x_test.shape}\n",
    "  y_test: {y_test.shape}\n",
    "  \n",
    "  Max/Min values:\n",
    "  x_train: {x_train.max()}\\{x_train.min()}\n",
    "  y_train: {y_train.max()}\\{y_train.min()}\n",
    "  x_test: {x_test.max()}\\{x_test.min()}\n",
    "  y_test: {y_test.max()}\\{y_test.min()}\n",
    "\"\"\")"
   ]
  },
  {
   "cell_type": "markdown",
   "metadata": {},
   "source": [
    "## Preprocessing"
   ]
  },
  {
   "cell_type": "markdown",
   "metadata": {},
   "source": [
    "### Normalization"
   ]
  },
  {
   "cell_type": "code",
   "execution_count": 256,
   "metadata": {},
   "outputs": [
    {
     "name": "stdout",
     "output_type": "stream",
     "text": [
      "Min/Max: x_train=1.0/0.0, x_test=1.0/0.0\n"
     ]
    }
   ],
   "source": [
    "x_train, x_test = x_train / x_train[0].max(), x_test / x_test[0].max()\n",
    "print(f\"Min/Max: x_train={x_train[0].max()}/{x_train[0].min()}, x_test={x_test[0].max()}/{x_test[0].min()}\")"
   ]
  },
  {
   "cell_type": "markdown",
   "metadata": {},
   "source": [
    "### Train-test flatten"
   ]
  },
  {
   "cell_type": "code",
   "execution_count": 257,
   "metadata": {},
   "outputs": [
    {
     "data": {
      "text/plain": [
       "((60000, 784), (10000, 784))"
      ]
     },
     "execution_count": 257,
     "metadata": {},
     "output_type": "execute_result"
    }
   ],
   "source": [
    "x_train_flatten = x_train.reshape(-1, np.prod(x_train.shape[1:]))\n",
    "x_test_flatten = x_test.reshape(-1, np.prod(x_test.shape[1:]))\n",
    "x_train_flatten.shape, x_test_flatten.shape"
   ]
  },
  {
   "cell_type": "markdown",
   "metadata": {},
   "source": [
    "### Train-test conv"
   ]
  },
  {
   "cell_type": "code",
   "execution_count": 289,
   "metadata": {},
   "outputs": [
    {
     "data": {
      "text/plain": [
       "((60000, 28, 28, 1), (10000, 28, 28, 1))"
      ]
     },
     "execution_count": 289,
     "metadata": {},
     "output_type": "execute_result"
    }
   ],
   "source": [
    "x_train_conv, x_test_conv = x_train[..., np.newaxis], x_test[..., np.newaxis]\n",
    "x_train_conv.shape, x_test_conv.shape"
   ]
  },
  {
   "cell_type": "markdown",
   "metadata": {},
   "source": [
    "### test categories"
   ]
  },
  {
   "cell_type": "code",
   "execution_count": 258,
   "metadata": {},
   "outputs": [
    {
     "data": {
      "text/plain": [
       "((60000, 10), (10000, 10))"
      ]
     },
     "execution_count": 258,
     "metadata": {},
     "output_type": "execute_result"
    }
   ],
   "source": [
    "y_train, y_test = keras_utils.to_categorical(y_train), keras_utils.to_categorical(y_test)\n",
    "y_train.shape, y_test.shape"
   ]
  },
  {
   "cell_type": "markdown",
   "metadata": {},
   "source": [
    "# Visualizing Image Dimensionality Reduction"
   ]
  },
  {
   "cell_type": "code",
   "execution_count": 259,
   "metadata": {},
   "outputs": [],
   "source": [
    "QTD_NEURO_ENCODER = 128"
   ]
  },
  {
   "cell_type": "markdown",
   "metadata": {},
   "source": [
    "## Building and Training the Model"
   ]
  },
  {
   "cell_type": "code",
   "execution_count": 260,
   "metadata": {},
   "outputs": [],
   "source": [
    "autoencoder_falleng = Sequential()\n",
    "autoencoder_falleng.add(Input(shape=(x_train_flatten.shape[1],)))\n",
    "autoencoder_falleng.add(Dense(QTD_NEURO_ENCODER, activation='relu'))\n",
    "autoencoder_falleng.add(Dense(x_train_flatten.shape[1], activation='sigmoid'))\n",
    "autoencoder_falleng.compile(optimizer='adam', loss='binary_crossentropy', metrics=['accuracy'])"
   ]
  },
  {
   "cell_type": "code",
   "execution_count": 261,
   "metadata": {},
   "outputs": [
    {
     "name": "stdout",
     "output_type": "stream",
     "text": [
      "CPU times: user 45.5 s, sys: 11 s, total: 56.5 s\n",
      "Wall time: 48.2 s\n"
     ]
    },
    {
     "data": {
      "text/plain": [
       "<keras.src.callbacks.history.History at 0x7fd8e29b2890>"
      ]
     },
     "execution_count": 261,
     "metadata": {},
     "output_type": "execute_result"
    }
   ],
   "source": [
    "%%time\n",
    "csv_logger_autoencor_falleng = CSVLogger('csv_logger_autoencor_falleng.csv', append=False)\n",
    "\n",
    "autoencoder_falleng.fit(\n",
    "  x_train_flatten, x_train_flatten,\n",
    "  epochs=50, batch_size=256, verbose=0,\n",
    "  callbacks=[csv_logger_autoencor_falleng],\n",
    "  validation_data=(x_test_flatten, x_test_flatten)\n",
    ")"
   ]
  },
  {
   "cell_type": "code",
   "execution_count": 262,
   "metadata": {},
   "outputs": [],
   "source": [
    "img_flatten = Input(shape=(x_train_flatten.shape[1],))\n",
    "img_encoded_flatten = Input(shape=(QTD_NEURO_ENCODER,))\n",
    "encoder_flatting = Model(img_flatten, autoencoder_falleng.layers[0](img_flatten))\n",
    "decoder_flatting = Model(img_encoded_flatten, autoencoder_falleng.layers[-1](img_encoded_flatten))"
   ]
  },
  {
   "cell_type": "markdown",
   "metadata": {},
   "source": [
    "## Predictions"
   ]
  },
  {
   "cell_type": "code",
   "execution_count": 263,
   "metadata": {},
   "outputs": [
    {
     "name": "stdout",
     "output_type": "stream",
     "text": [
      "\u001b[1m313/313\u001b[0m \u001b[32m━━━━━━━━━━━━━━━━━━━━\u001b[0m\u001b[37m\u001b[0m \u001b[1m1s\u001b[0m 2ms/step\n",
      "\u001b[1m313/313\u001b[0m \u001b[32m━━━━━━━━━━━━━━━━━━━━\u001b[0m\u001b[37m\u001b[0m \u001b[1m1s\u001b[0m 2ms/step\n"
     ]
    },
    {
     "data": {
      "text/plain": [
       "((10000, 128), (10000, 784))"
      ]
     },
     "execution_count": 263,
     "metadata": {},
     "output_type": "execute_result"
    }
   ],
   "source": [
    "imgs_encoded_flatting = encoder_flatting.predict(x_test_flatten)\n",
    "imgs_decoded_flatting = decoder_flatting.predict(imgs_encoded_flatting)\n",
    "imgs_encoded_flatting.shape, imgs_decoded_flatting.shape"
   ]
  },
  {
   "cell_type": "markdown",
   "metadata": {},
   "source": [
    "## Visualizing the Results"
   ]
  },
  {
   "cell_type": "code",
   "execution_count": 264,
   "metadata": {},
   "outputs": [
    {
     "name": "stdout",
     "output_type": "stream",
     "text": [
      "Encoded size: 4.88 MB -> Predicted size: 29.91 MB. Reduction size: 25.02 MB\n",
      "Percentage reduction: 83.67%\n",
      "Similarity percentage: 98.78%\n"
     ]
    },
    {
     "data": {
      "image/png": "[encoded data removed]",
      "text/plain": [
       "<Figure size 2000x400 with 30 Axes>"
      ]
     },
     "metadata": {},
     "output_type": "display_data"
    }
   ],
   "source": [
    "size_encoded = imgs_encoded_flatting.__sizeof__()\n",
    "size_pred = imgs_decoded_flatting.__sizeof__()\n",
    "size_encoded_mb = size_encoded / 1024 / 1024\n",
    "size_pred_mb = size_pred / 1024 / 1024\n",
    "reduction_size = abs(size_encoded_mb - size_pred_mb)\n",
    "reduction_rate = size_pred_mb / size_encoded_mb\n",
    "percentage_reduction = (1 - (size_encoded_mb / size_pred_mb)) * 100\n",
    "mean_diff = np.mean(np.abs(x_test_flatten - imgs_decoded_flatting))\n",
    "similarity_percentage = (1 - mean_diff) * 100\n",
    "\n",
    "print(f\"Encoded size: {size_encoded_mb:.2f} MB -> Predicted size: {size_pred_mb:.2f} MB. Reduction size: {reduction_size:.2f} MB\")\n",
    "print(f\"Percentage reduction: {percentage_reduction:.2f}%\")\n",
    "print(f\"Similarity percentage: {similarity_percentage:.2f}%\")\n",
    "\n",
    "QTD_IMGS = 10\n",
    "plt.figure(figsize=(20, 4))\n",
    "for i in range(QTD_IMGS):\n",
    "  # Original images\n",
    "  plt.subplot(3, QTD_IMGS, i + 1)\n",
    "  plt.imshow(x_test[i], cmap='gray')\n",
    "  plt.axis('off')\n",
    "  \n",
    "  # Encoded images\n",
    "  plt.subplot(3, QTD_IMGS, i + QTD_IMGS + 1)\n",
    "  plt.imshow(imgs_encoded_flatting[i].reshape(16, 8), cmap='gray')\n",
    "  plt.axis('off')\n",
    "  \n",
    "  # Reconstructed images\n",
    "  plt.subplot(3, QTD_IMGS, i + 2 * QTD_IMGS + 1)\n",
    "  plt.imshow(imgs_decoded_flatting[i].reshape(28, 28), cmap='gray')\n",
    "  plt.axis('off')\n",
    "  \n",
    "plt.show()"
   ]
  },
  {
   "cell_type": "markdown",
   "metadata": {},
   "source": [
    "# Visualizing Image Dimensionality Reduction - Categorical"
   ]
  },
  {
   "cell_type": "markdown",
   "metadata": {},
   "source": [
    "## Building and Training the Model"
   ]
  },
  {
   "cell_type": "code",
   "execution_count": 265,
   "metadata": {},
   "outputs": [],
   "source": [
    "QTD_NEURO_ENCODER = 32"
   ]
  },
  {
   "cell_type": "markdown",
   "metadata": {},
   "source": [
    "#### Encoding Model"
   ]
  },
  {
   "cell_type": "code",
   "execution_count": 266,
   "metadata": {},
   "outputs": [],
   "source": [
    "autoencoder_falleng_2 = Sequential()\n",
    "autoencoder_falleng_2.add(Input(shape=(x_train_flatten.shape[1],)))\n",
    "autoencoder_falleng_2.add(Dense(QTD_NEURO_ENCODER, activation='relu'))\n",
    "autoencoder_falleng_2.add(Dense(x_train_flatten.shape[1], activation='sigmoid'))\n",
    "autoencoder_falleng_2.compile(optimizer='adam', loss='binary_crossentropy', metrics=['accuracy'])"
   ]
  },
  {
   "cell_type": "code",
   "execution_count": 267,
   "metadata": {},
   "outputs": [
    {
     "name": "stdout",
     "output_type": "stream",
     "text": [
      "CPU times: user 38.1 s, sys: 9.17 s, total: 47.3 s\n",
      "Wall time: 34.8 s\n"
     ]
    },
    {
     "data": {
      "text/plain": [
       "<keras.src.callbacks.history.History at 0x7fd8e3ca73a0>"
      ]
     },
     "execution_count": 267,
     "metadata": {},
     "output_type": "execute_result"
    }
   ],
   "source": [
    "%%time\n",
    "csv_logger_autoencor_falleng_2 = CSVLogger('csv_logger_autoencor_falleng_2.csv', append=False)\n",
    "\n",
    "autoencoder_falleng_2.fit(\n",
    "  x_train_flatten, x_train_flatten,\n",
    "  epochs=50, batch_size=256, verbose=0,\n",
    "  callbacks=[csv_logger_autoencor_falleng_2]\n",
    ");"
   ]
  },
  {
   "cell_type": "code",
   "execution_count": 268,
   "metadata": {},
   "outputs": [],
   "source": [
    "img_flatten_2 = Input(shape=(x_train_flatten.shape[1],))\n",
    "img_encoded_flatten_2 = Input(shape=(QTD_NEURO_ENCODER,))\n",
    "encoder_flatting_2 = Model(img_flatten_2, autoencoder_falleng_2.layers[0](img_flatten_2))\n",
    "decoder_flatting_2 = Model(img_encoded_flatten_2, autoencoder_falleng_2.layers[-1](img_encoded_flatten_2))"
   ]
  },
  {
   "cell_type": "markdown",
   "metadata": {},
   "source": [
    "#### Category Models"
   ]
  },
  {
   "cell_type": "code",
   "execution_count": 269,
   "metadata": {},
   "outputs": [],
   "source": [
    "units_count = int((x_train_flatten.shape[1] + y_train.shape[1]) / 2)"
   ]
  },
  {
   "cell_type": "code",
   "execution_count": 270,
   "metadata": {},
   "outputs": [
    {
     "data": {
      "text/plain": [
       "473631"
      ]
     },
     "execution_count": 270,
     "metadata": {},
     "output_type": "execute_result"
    }
   ],
   "source": [
    "network_no_encoded = Sequential()\n",
    "network_no_encoded.add(Input(shape=(x_train_flatten.shape[1],)))\n",
    "network_no_encoded.add(Dense(units_count, activation='relu'))\n",
    "network_no_encoded.add(Dense(units_count, activation='relu'))\n",
    "network_no_encoded.add(Dense(10, activation='softmax'))\n",
    "network_no_encoded.compile(optimizer='adam', loss='categorical_crossentropy', metrics=['accuracy'])\n",
    "params_no_encoded = network_no_encoded.count_params()\n",
    "params_no_encoded"
   ]
  },
  {
   "cell_type": "code",
   "execution_count": 271,
   "metadata": {},
   "outputs": [
    {
     "name": "stdout",
     "output_type": "stream",
     "text": [
      "CPU times: user 23.8 s, sys: 4.62 s, total: 28.4 s\n",
      "Wall time: 23.2 s\n"
     ]
    },
    {
     "data": {
      "text/plain": [
       "<keras.src.callbacks.history.History at 0x7fd8e266ca60>"
      ]
     },
     "execution_count": 271,
     "metadata": {},
     "output_type": "execute_result"
    }
   ],
   "source": [
    "%%time\n",
    "cv2_logger_classifier_no_encoded = CSVLogger('cv2_logger_classifier_no_encoded.csv', append=False)\n",
    "es = EarlyStopping(monitor='val_loss', min_delta=1e-10, patience=10)\n",
    "rlr = ReduceLROnPlateau(monitor='val_loss', factor=0.2, patience=5)\n",
    "\n",
    "network_no_encoded.fit(\n",
    "    x_train_flatten, y_train, \n",
    "    epochs=50, batch_size=256, verbose=0,\n",
    "    callbacks=[cv2_logger_classifier_no_encoded, es, rlr],\n",
    "    validation_data=(x_test_flatten, y_test),\n",
    ");"
   ]
  },
  {
   "cell_type": "code",
   "execution_count": 272,
   "metadata": {},
   "outputs": [],
   "source": [
    "units_count = int((QTD_NEURO_ENCODER + y_train.shape[1]) / 2)"
   ]
  },
  {
   "cell_type": "code",
   "execution_count": 273,
   "metadata": {},
   "outputs": [
    {
     "data": {
      "text/plain": [
       "1375"
      ]
     },
     "execution_count": 273,
     "metadata": {},
     "output_type": "execute_result"
    }
   ],
   "source": [
    "network_encoded = Sequential()\n",
    "network_encoded.add(Input(shape=(QTD_NEURO_ENCODER,)))\n",
    "network_encoded.add(Dense(units_count, activation='relu'))\n",
    "network_encoded.add(Dense(units_count, activation='relu'))\n",
    "network_encoded.add(Dense(10, activation='softmax'))\n",
    "network_encoded.compile(optimizer='adam', loss='categorical_crossentropy', metrics=['accuracy'])\n",
    "params_encoded = network_encoded.count_params()\n",
    "params_encoded"
   ]
  },
  {
   "cell_type": "code",
   "execution_count": 274,
   "metadata": {},
   "outputs": [
    {
     "name": "stdout",
     "output_type": "stream",
     "text": [
      "\u001b[1m1875/1875\u001b[0m \u001b[32m━━━━━━━━━━━━━━━━━━━━\u001b[0m\u001b[37m\u001b[0m \u001b[1m4s\u001b[0m 2ms/step\n",
      "\u001b[1m313/313\u001b[0m \u001b[32m━━━━━━━━━━━━━━━━━━━━\u001b[0m\u001b[37m\u001b[0m \u001b[1m1s\u001b[0m 2ms/step\n",
      "CPU times: user 56.2 s, sys: 12.7 s, total: 1min 8s\n",
      "Wall time: 1min 3s\n"
     ]
    },
    {
     "data": {
      "text/plain": [
       "<keras.src.callbacks.history.History at 0x7fd8e14e4eb0>"
      ]
     },
     "execution_count": 274,
     "metadata": {},
     "output_type": "execute_result"
    }
   ],
   "source": [
    "%%time\n",
    "cv2_logger_classifier_encoded = CSVLogger('cv2_logger_classifier_encoded.csv', append=False)\n",
    "es = EarlyStopping(monitor='val_loss', min_delta=1e-10, patience=10)\n",
    "rlr = ReduceLROnPlateau(monitor='val_loss', factor=0.2, patience=5)\n",
    "\n",
    "\n",
    "network_encoded.fit(\n",
    "  encoder_flatting_2.predict(x_train_flatten), y_train, \n",
    "  epochs=100, batch_size=256, verbose=0, \n",
    "  callbacks=[cv2_logger_classifier_encoded, es, rlr],\n",
    "  validation_data=(encoder_flatting_2.predict(x_test_flatten), y_test)\n",
    ");"
   ]
  },
  {
   "cell_type": "markdown",
   "metadata": {},
   "source": [
    "## Predictions"
   ]
  },
  {
   "cell_type": "code",
   "execution_count": 275,
   "metadata": {},
   "outputs": [
    {
     "name": "stdout",
     "output_type": "stream",
     "text": [
      "\u001b[1m1875/1875\u001b[0m \u001b[32m━━━━━━━━━━━━━━━━━━━━\u001b[0m\u001b[37m\u001b[0m \u001b[1m3s\u001b[0m 2ms/step\n",
      "\u001b[1m313/313\u001b[0m \u001b[32m━━━━━━━━━━━━━━━━━━━━\u001b[0m\u001b[37m\u001b[0m \u001b[1m1s\u001b[0m 2ms/step\n",
      "\u001b[1m1875/1875\u001b[0m \u001b[32m━━━━━━━━━━━━━━━━━━━━\u001b[0m\u001b[37m\u001b[0m \u001b[1m4s\u001b[0m 2ms/step\n",
      "\u001b[1m313/313\u001b[0m \u001b[32m━━━━━━━━━━━━━━━━━━━━\u001b[0m\u001b[37m\u001b[0m \u001b[1m1s\u001b[0m 2ms/step\n"
     ]
    }
   ],
   "source": [
    "imgs_encoded_x_train_flatting_2 = encoder_flatting_2.predict(x_train_flatten)\n",
    "imgs_encoded_x_test_flatting_2 = encoder_flatting_2.predict(x_test_flatten)\n",
    "imgs_decoded_x_train_flatting_2 = decoder_flatting_2.predict(imgs_encoded_x_train_flatting_2)\n",
    "imgs_decoded_x_test_flatting_2 = decoder_flatting_2.predict(imgs_encoded_x_test_flatting_2)"
   ]
  },
  {
   "cell_type": "code",
   "execution_count": 276,
   "metadata": {},
   "outputs": [
    {
     "name": "stdout",
     "output_type": "stream",
     "text": [
      "\u001b[1m313/313\u001b[0m \u001b[32m━━━━━━━━━━━━━━━━━━━━\u001b[0m\u001b[37m\u001b[0m \u001b[1m1s\u001b[0m 3ms/step\n",
      "CPU times: user 1.47 s, sys: 229 ms, total: 1.7 s\n",
      "Wall time: 1.75 s\n"
     ]
    }
   ],
   "source": [
    "%%time\n",
    "predicitions_no_encoded_categorical = network_no_encoded.predict(x_test_flatten)"
   ]
  },
  {
   "cell_type": "code",
   "execution_count": 277,
   "metadata": {},
   "outputs": [
    {
     "name": "stdout",
     "output_type": "stream",
     "text": [
      "\u001b[1m313/313\u001b[0m \u001b[32m━━━━━━━━━━━━━━━━━━━━\u001b[0m\u001b[37m\u001b[0m \u001b[1m1s\u001b[0m 2ms/step\n",
      "CPU times: user 711 ms, sys: 213 ms, total: 924 ms\n",
      "Wall time: 895 ms\n"
     ]
    }
   ],
   "source": [
    "%%time\n",
    "temp = encoder_flatting_2.predict(x_test_flatten)"
   ]
  },
  {
   "cell_type": "code",
   "execution_count": 278,
   "metadata": {},
   "outputs": [
    {
     "name": "stdout",
     "output_type": "stream",
     "text": [
      "CPU times: user 7 µs, sys: 1e+03 ns, total: 8 µs\n",
      "Wall time: 14.8 µs\n",
      "\u001b[1m313/313\u001b[0m \u001b[32m━━━━━━━━━━━━━━━━━━━━\u001b[0m\u001b[37m\u001b[0m \u001b[1m1s\u001b[0m 3ms/step\n"
     ]
    }
   ],
   "source": [
    "%time\n",
    "predicitions_encoded_categorical = network_encoded.predict(temp)"
   ]
  },
  {
   "cell_type": "code",
   "execution_count": 279,
   "metadata": {},
   "outputs": [
    {
     "data": {
      "text/plain": [
       "(array([7, 2, 1, 0, 4, 1, 4, 9, 5, 9]),\n",
       " array([7, 2, 1, 0, 4, 1, 4, 9, 2, 9]),\n",
       " array([7, 2, 1, 0, 4, 1, 4, 9, 5, 9]))"
      ]
     },
     "execution_count": 279,
     "metadata": {},
     "output_type": "execute_result"
    }
   ],
   "source": [
    "predicitions_no_encoded = np.argmax(predicitions_no_encoded_categorical, axis=1)\n",
    "predicitions_encoded = np.argmax(predicitions_encoded_categorical, axis=1)\n",
    "predicitions_no_encoded[:10], predicitions_encoded[:10], np.argmax(y_test[:10], axis=1)"
   ]
  },
  {
   "cell_type": "markdown",
   "metadata": {},
   "source": [
    "## Visualizing the Results"
   ]
  },
  {
   "cell_type": "code",
   "execution_count": 280,
   "metadata": {},
   "outputs": [
    {
     "name": "stdout",
     "output_type": "stream",
     "text": [
      "Encoded size: 1.22 MB -> Predicted size: 29.91 MB. Reduction size: 28.69 MB\n",
      "Percentage reduction: 95.92%\n",
      "Similarity percentage: 96.75%\n",
      "No encoded params: 473631 -> Encoded params: 1375. Reduction: 99.71%\n"
     ]
    },
    {
     "data": {
      "image/png": "[encoded data removed]",
      "text/plain": [
       "<Figure size 2000x400 with 30 Axes>"
      ]
     },
     "metadata": {},
     "output_type": "display_data"
    }
   ],
   "source": [
    "size_encoded = imgs_encoded_x_test_flatting_2.__sizeof__()\n",
    "size_pred = imgs_decoded_x_test_flatting_2.__sizeof__()\n",
    "size_encoded_mb = size_encoded / 1024 / 1024\n",
    "size_pred_mb = size_pred / 1024 / 1024\n",
    "reduction_size = abs(size_encoded_mb - size_pred_mb)\n",
    "reduction_rate = size_pred_mb / size_encoded_mb\n",
    "percentage_reduction = (1 - (size_encoded_mb / size_pred_mb)) * 100\n",
    "mean_diff = np.mean(np.abs(x_test_flatten - imgs_decoded_x_test_flatting_2))\n",
    "similarity_percentage = (1 - mean_diff) * 100\n",
    "reduction_porcentage = (1 - (params_encoded / params_no_encoded)) * 100\n",
    "\n",
    "\n",
    "print(f\"Encoded size: {size_encoded_mb:.2f} MB -> Predicted size: {size_pred_mb:.2f} MB. Reduction size: {reduction_size:.2f} MB\")\n",
    "print(f\"Percentage reduction: {percentage_reduction:.2f}%\")\n",
    "print(f\"Similarity percentage: {similarity_percentage:.2f}%\")\n",
    "print(f\"No encoded params: {params_no_encoded} -> Encoded params: {params_encoded}. Reduction: {reduction_porcentage:.2f}%\")\n",
    "\n",
    "\n",
    "QTD_IMGS = 10\n",
    "plt.figure(figsize=(20, 4))\n",
    "for i in range(QTD_IMGS):\n",
    "  # Original images\n",
    "  plt.subplot(3, QTD_IMGS, i + 1)\n",
    "  plt.imshow(x_test[i], cmap='gray')\n",
    "  plt.axis('off')\n",
    "  \n",
    "  # Encoded images\n",
    "  plt.subplot(3, QTD_IMGS, i + QTD_IMGS + 1)\n",
    "  plt.imshow(imgs_encoded_x_test_flatting_2[i].reshape(4, 8), cmap='gray')\n",
    "  plt.axis('off')\n",
    "  \n",
    "  # Reconstructed images\n",
    "  plt.subplot(3, QTD_IMGS, i + 2 * QTD_IMGS + 1)\n",
    "  plt.imshow(imgs_decoded_x_test_flatting_2[i].reshape(28, 28), cmap='gray')\n",
    "  plt.axis('off')\n",
    "  \n",
    "plt.show()"
   ]
  },
  {
   "cell_type": "code",
   "execution_count": 281,
   "metadata": {},
   "outputs": [
    {
     "name": "stdout",
     "output_type": "stream",
     "text": [
      "Accuracy no encoded: 0.98 -> Accuracy encoded: 0.96\n",
      "Accuracy difference: 0.03\n"
     ]
    }
   ],
   "source": [
    "accuracy_no_encoded = np.mean(predicitions_no_encoded == np.argmax(y_test, axis=1))\n",
    "accuracy_encoded = np.mean(predicitions_encoded == np.argmax(y_test, axis=1))\n",
    "\n",
    "print(f\"Accuracy no encoded: {accuracy_no_encoded:.2f} -> Accuracy encoded: {accuracy_encoded:.2f}\")\n",
    "print(f\"Accuracy difference: {abs(accuracy_encoded - accuracy_no_encoded):.2f}\")"
   ]
  },
  {
   "cell_type": "markdown",
   "metadata": {},
   "source": [
    "# Visualizing Image Dimensionality Reduction - Deep Learning"
   ]
  },
  {
   "cell_type": "markdown",
   "metadata": {},
   "source": [
    "## Building and Training the Model"
   ]
  },
  {
   "cell_type": "code",
   "execution_count": 282,
   "metadata": {},
   "outputs": [
    {
     "data": {
      "text/plain": [
       "(32, 397)"
      ]
     },
     "execution_count": 282,
     "metadata": {},
     "output_type": "execute_result"
    }
   ],
   "source": [
    "units_count = int((x_train_flatten.shape[1] + y_train.shape[1]) / 2)\n",
    "QTD_NEURO_ENCODER = 32\n",
    "QTD_NEURO_ENCODER, units_count"
   ]
  },
  {
   "cell_type": "code",
   "execution_count": 283,
   "metadata": {},
   "outputs": [],
   "source": [
    "autoencoder_flattening_deep = Sequential()\n",
    "autoencoder_flattening_deep.add(Input(shape=(x_train_flatten.shape[1],)))\n",
    "autoencoder_flattening_deep.add(Dense(units_count, activation='relu'))\n",
    "autoencoder_flattening_deep.add(Dense(int(units_count / 2), activation='relu'))\n",
    "autoencoder_flattening_deep.add(Dense(int(units_count / 4), activation='relu'))\n",
    "autoencoder_flattening_deep.add(Dense(QTD_NEURO_ENCODER, activation='relu'))\n",
    "autoencoder_flattening_deep.add(Dense(int(units_count / 4), activation='relu'))\n",
    "autoencoder_flattening_deep.add(Dense(int(units_count / 2), activation='relu'))\n",
    "autoencoder_flattening_deep.add(Dense(units_count, activation='relu'))\n",
    "autoencoder_flattening_deep.add(Dense(x_train_flatten.shape[1], activation='sigmoid'))\n",
    "autoencoder_flattening_deep.compile(optimizer='adam', loss='binary_crossentropy', metrics=['accuracy'])"
   ]
  },
  {
   "cell_type": "code",
   "execution_count": 284,
   "metadata": {},
   "outputs": [],
   "source": [
    "input_flatten_deep = Input(shape=(x_train_flatten.shape[1],))\n",
    "camada_1_deep = autoencoder_flattening_deep.layers[0](input_flatten_deep)\n",
    "camada_2_deep = autoencoder_flattening_deep.layers[1](camada_1_deep)\n",
    "camada_3_deep = autoencoder_flattening_deep.layers[2](camada_2_deep)\n",
    "encoder_flatting_deep = Model(input_flatten_deep, autoencoder_flattening_deep.layers[3](camada_3_deep))"
   ]
  },
  {
   "cell_type": "code",
   "execution_count": 285,
   "metadata": {},
   "outputs": [],
   "source": [
    "input_encoded_deep = Input(shape=(QTD_NEURO_ENCODER,))\n",
    "camada_4_deep = autoencoder_flattening_deep.layers[4](input_encoded_deep)\n",
    "camada_5_deep = autoencoder_flattening_deep.layers[5](camada_4_deep)\n",
    "camada_6_deep = autoencoder_flattening_deep.layers[6](camada_5_deep)\n",
    "decoder_flatting_deep = Model(input_encoded_deep, autoencoder_flattening_deep.layers[-1](camada_6_deep))"
   ]
  },
  {
   "cell_type": "code",
   "execution_count": 286,
   "metadata": {},
   "outputs": [
    {
     "data": {
      "text/plain": [
       "<keras.src.callbacks.history.History at 0x7fd8e1ca7a60>"
      ]
     },
     "execution_count": 286,
     "metadata": {},
     "output_type": "execute_result"
    }
   ],
   "source": [
    "cv2_logger_autoencor_falleng_deep = CSVLogger('cv2_logger_autoencor_falleng_deep.csv', append=False)\n",
    "\n",
    "autoencoder_flattening_deep.fit(\n",
    "  x_train_flatten, x_train_flatten,\n",
    "  epochs=50, batch_size=256, verbose=0,\n",
    "  callbacks=[cv2_logger_autoencor_falleng_deep],\n",
    "  validation_data=(x_test_flatten, x_test_flatten)\n",
    ")"
   ]
  },
  {
   "cell_type": "code",
   "execution_count": 287,
   "metadata": {},
   "outputs": [
    {
     "name": "stdout",
     "output_type": "stream",
     "text": [
      "\u001b[1m313/313\u001b[0m \u001b[32m━━━━━━━━━━━━━━━━━━━━\u001b[0m\u001b[37m\u001b[0m \u001b[1m1s\u001b[0m 3ms/step\n",
      "\u001b[1m313/313\u001b[0m \u001b[32m━━━━━━━━━━━━━━━━━━━━\u001b[0m\u001b[37m\u001b[0m \u001b[1m1s\u001b[0m 495us/step\n"
     ]
    }
   ],
   "source": [
    "imgs_encoded_x_test_flatting_deep = encoder_flatting_deep.predict(x_test_flatten)\n",
    "imgs_decoded_x_test_flatting_deep = decoder_flatting_deep.predict(imgs_encoded_x_test_flatting_deep)"
   ]
  },
  {
   "cell_type": "code",
   "execution_count": 288,
   "metadata": {},
   "outputs": [
    {
     "name": "stdout",
     "output_type": "stream",
     "text": [
      "Encoded size: 1.22 MB -> Predicted size: 29.91 MB. Reduction size: 28.69 MB\n",
      "Percentage reduction: 95.92%\n",
      "Similarity percentage: 97.63%\n"
     ]
    },
    {
     "data": {
      "image/png": "[encoded data removed]",
      "text/plain": [
       "<Figure size 2000x400 with 30 Axes>"
      ]
     },
     "metadata": {},
     "output_type": "display_data"
    }
   ],
   "source": [
    "size_encoded = imgs_encoded_x_test_flatting_deep.__sizeof__()\n",
    "size_pred = imgs_decoded_x_test_flatting_deep.__sizeof__()\n",
    "\n",
    "size_encoded_mb = size_encoded / 1024 / 1024\n",
    "size_pred_mb = size_pred / 1024 / 1024\n",
    "\n",
    "reduction_size = abs(size_encoded_mb - size_pred_mb)\n",
    "percentage_reduction = (1 - (size_encoded_mb / size_pred_mb)) * 100\n",
    "similarity_percentage = (1 - np.mean(np.abs(x_test_flatten - imgs_decoded_x_test_flatting_deep))) * 100\n",
    "\n",
    "print(f\"Encoded size: {size_encoded_mb:.2f} MB -> Predicted size: {size_pred_mb:.2f} MB. Reduction size: {reduction_size:.2f} MB\")\n",
    "print(f\"Percentage reduction: {percentage_reduction:.2f}%\")\n",
    "print(f\"Similarity percentage: {similarity_percentage:.2f}%\")\n",
    "\n",
    "\n",
    "QTD_IMGS = 10\n",
    "plt.figure(figsize=(20, 4))\n",
    "for i in range(QTD_IMGS):\n",
    "  # Original images\n",
    "  plt.subplot(3, QTD_IMGS, i + 1)\n",
    "  plt.imshow(x_test[i], cmap='gray')\n",
    "  plt.axis('off')\n",
    "  \n",
    "  # Encoded images\n",
    "  plt.subplot(3, QTD_IMGS, i + QTD_IMGS + 1)\n",
    "  plt.imshow(imgs_encoded_x_test_flatting_deep[i].reshape(4, 8), cmap='gray')\n",
    "  plt.axis('off')\n",
    "  \n",
    "  # Reconstructed images\n",
    "  plt.subplot(3, QTD_IMGS, i + 2 * QTD_IMGS + 1)\n",
    "  plt.imshow(imgs_decoded_x_test_flatting_deep[i].reshape(28, 28), cmap='gray')\n",
    "  plt.axis('off')\n",
    "  \n",
    "plt.show()"
   ]
  },
  {
   "cell_type": "markdown",
   "metadata": {},
   "source": [
    "# Visualizing Image Dimensionality Reduction - Convolutional Neural Networks"
   ]
  }
 ],
 "metadata": {
  "kernelspec": {
   "display_name": "Python 3",
   "language": "python",
   "name": "python3"
  },
  "language_info": {
   "codemirror_mode": {
    "name": "ipython",
    "version": 3
   },
   "file_extension": ".py",
   "mimetype": "text/x-python",
   "name": "python",
   "nbconvert_exporter": "python",
   "pygments_lexer": "ipython3",
   "version": "3.10.12"
  }
 },
 "nbformat": 4,
 "nbformat_minor": 2
}
